{
  "cells": [
    {
      "cell_type": "markdown",
      "metadata": {
        "id": "KKipK8pTq0xW"
      },
      "source": [
        "## **CNN**"
      ]
    },
    {
      "cell_type": "markdown",
      "metadata": {
        "id": "QhwGMEa5wIsL"
      },
      "source": [
        "In this section, we implement a Convolutional Neural Network (CNN) to classify support tickets into predefined categories. CNNs are particularly effective for text classification tasks due to their ability to capture local patterns such as key phrases and n-grams.\n",
        "\n",
        "We use preprocessed text data and pre-trained GloVe embeddings to enrich word representations. The model architecture includes multiple convolutional layers with varying kernel sizes, followed by max pooling and fully connected layers. Regularization techniques such as dropout, batch normalization, and L2 penalties are applied to improve generalization and prevent overfitting.\n",
        "\n",
        "This CNN aims to accurately predict the category of each ticket based on its textual content, and the final model is evaluated on both validation and test datasets."
      ]
    },
    {
      "cell_type": "markdown",
      "metadata": {
        "id": "KB25Bivor_OQ"
      },
      "source": [
        "#### Imports"
      ]
    },
    {
      "cell_type": "code",
      "execution_count": 75,
      "metadata": {
        "id": "pkFile-6sA3O"
      },
      "outputs": [],
      "source": [
        "import pandas as pd\n",
        "import numpy as np\n",
        "import os\n",
        "import random\n",
        "import tensorflow as tf\n",
        "import matplotlib.pyplot as plt\n",
        "import seaborn as sns\n",
        "from sklearn.metrics import confusion_matrix"
      ]
    },
    {
      "cell_type": "code",
      "execution_count": 44,
      "metadata": {
        "id": "tGByvR_MsJLJ"
      },
      "outputs": [],
      "source": [
        "# Tokenization and Padding\n",
        "from tensorflow.keras.preprocessing.text import Tokenizer\n",
        "from tensorflow.keras.preprocessing.sequence import pad_sequences"
      ]
    },
    {
      "cell_type": "code",
      "execution_count": 45,
      "metadata": {
        "id": "GtgIJz-9sQTu"
      },
      "outputs": [],
      "source": [
        "# Encode target labels\n",
        "from sklearn.preprocessing import LabelEncoder\n",
        "from tensorflow.keras.utils import to_categorical"
      ]
    },
    {
      "cell_type": "code",
      "execution_count": 46,
      "metadata": {
        "id": "1YWuJ6gosRtk"
      },
      "outputs": [],
      "source": [
        "# Compute class weights\n",
        "from sklearn.utils.class_weight import compute_class_weight"
      ]
    },
    {
      "cell_type": "code",
      "execution_count": 47,
      "metadata": {
        "id": "U40xIkoTsWHs"
      },
      "outputs": [],
      "source": [
        "# Model architecture\n",
        "from tensorflow.keras.models import Model\n",
        "from tensorflow.keras.layers import (Input, Embedding, Conv1D, GlobalMaxPooling1D, Dense, Dropout,\n",
        "                                     Concatenate, SpatialDropout1D, BatchNormalization)\n",
        "from tensorflow.keras.regularizers import l2"
      ]
    },
    {
      "cell_type": "code",
      "execution_count": 48,
      "metadata": {
        "id": "gHqckFfrsg5E"
      },
      "outputs": [],
      "source": [
        "# Callbacks for training\n",
        "from tensorflow.keras.callbacks import EarlyStopping, ReduceLROnPlateau"
      ]
    },
    {
      "cell_type": "code",
      "execution_count": 49,
      "metadata": {
        "id": "7JSm7HuKsERi"
      },
      "outputs": [],
      "source": [
        "# Ensuring reproducibility by setting seeds\n",
        "SEED = 40\n",
        "np.random.seed(SEED)\n",
        "tf.random.set_seed(SEED)\n",
        "random.seed(SEED)"
      ]
    },
    {
      "cell_type": "markdown",
      "metadata": {
        "id": "jCbTJ6taskd9"
      },
      "source": [
        "#### Load Datasets"
      ]
    },
    {
      "cell_type": "code",
      "execution_count": 50,
      "metadata": {
        "id": "m_vxbb0gsnmQ"
      },
      "outputs": [],
      "source": [
        "# Loading training, validation, and test data\n",
        "train_data = pd.read_csv(\"/content/ticket_train.csv\", sep=\";\")\n",
        "valid_data = pd.read_csv(\"/content/ticket_valid.csv\", sep=\";\")\n",
        "test_data  = pd.read_csv(\"/content/ticket_test.csv\", sep=\";\")"
      ]
    },
    {
      "cell_type": "code",
      "execution_count": 51,
      "metadata": {
        "id": "Ax9xF4P4sp5K"
      },
      "outputs": [],
      "source": [
        "# Extract input texts and labels from each dataset\n",
        "x_train = train_data[\"text_cleaned\"].astype(str).values\n",
        "y_train = train_data[\"grouped_queue\"].values\n",
        "\n",
        "x_valid = valid_data[\"text_cleaned\"].astype(str).values\n",
        "y_valid = valid_data[\"grouped_queue\"].values\n",
        "\n",
        "x_test  = test_data[\"text_cleaned\"].astype(str).values\n",
        "y_test  = test_data[\"grouped_queue\"].values"
      ]
    },
    {
      "cell_type": "markdown",
      "metadata": {
        "id": "cGA7LPJysziL"
      },
      "source": [
        "#### Tokenization and Padding"
      ]
    },
    {
      "cell_type": "markdown",
      "metadata": {
        "id": "kpJjlD7hwhOA"
      },
      "source": [
        "The parameters `max_vocab = 11000`, `max_length = 400`, and `oov_tok = \"<OOV>\"` are used to configure the text preprocessing for the model. `max_vocab` sets the maximum number of unique words to retain based on frequency (following the EDA results,vthe top 11,000 words), reducing model complexity. `max_length` defines the maximum length of input sequences, ensuring consistency in text size by padding or truncating longer texts. Finally, `oov_tok` represents the token used for any words not seen during training, allowing the model to handle out-of-vocabulary words gracefully."
      ]
    },
    {
      "cell_type": "code",
      "execution_count": 52,
      "metadata": {
        "id": "OmtPqvxutLWV"
      },
      "outputs": [],
      "source": [
        "max_vocab = 11000\n",
        "max_length = 400\n",
        "oov_tok = \"<OOV>\""
      ]
    },
    {
      "cell_type": "code",
      "execution_count": 53,
      "metadata": {
        "id": "RP9hKxy3tQkU"
      },
      "outputs": [],
      "source": [
        "# Initialize and fit the tokenizer on training data\n",
        "tokenizer = Tokenizer(num_words=max_vocab, oov_token=oov_tok)\n",
        "tokenizer.fit_on_texts(x_train)"
      ]
    },
    {
      "cell_type": "code",
      "execution_count": 54,
      "metadata": {
        "id": "pnY5-URAtS5A"
      },
      "outputs": [],
      "source": [
        "# Convert texts to padded sequences\n",
        "x_train_pad = pad_sequences(tokenizer.texts_to_sequences(x_train), maxlen=max_length, padding=\"post\")\n",
        "x_valid_pad = pad_sequences(tokenizer.texts_to_sequences(x_valid), maxlen=max_length, padding=\"post\")\n",
        "x_test_pad  = pad_sequences(tokenizer.texts_to_sequences(x_test),  maxlen=max_length, padding=\"post\")"
      ]
    },
    {
      "cell_type": "markdown",
      "metadata": {
        "id": "r4-tVDzJtcXh"
      },
      "source": [
        "#### Enconde Target Labels"
      ]
    },
    {
      "cell_type": "code",
      "execution_count": 55,
      "metadata": {
        "id": "QKgLyUZrte1y"
      },
      "outputs": [],
      "source": [
        "label_encoder = LabelEncoder()\n",
        "y_train_enc = label_encoder.fit_transform(y_train)\n",
        "y_valid_enc = label_encoder.transform(y_valid)\n",
        "y_test_enc  = label_encoder.transform(y_test)"
      ]
    },
    {
      "cell_type": "code",
      "execution_count": 56,
      "metadata": {
        "id": "765aaqN-ta_Q"
      },
      "outputs": [],
      "source": [
        "# Convert labels to one-hot encoded format for classification\n",
        "num_classes = len(label_encoder.classes_)\n",
        "y_train_cat = to_categorical(y_train_enc, num_classes)\n",
        "y_valid_cat = to_categorical(y_valid_enc, num_classes)\n",
        "y_test_cat  = to_categorical(y_test_enc, num_classes)"
      ]
    },
    {
      "cell_type": "markdown",
      "metadata": {
        "id": "UcsABazPtkUv"
      },
      "source": [
        "#### Class weights"
      ]
    },
    {
      "cell_type": "markdown",
      "metadata": {
        "id": "m_IjA56mxO-3"
      },
      "source": [
        "When some classes are underrepresented, the model may become biased towards the majority class. By assigning higher weights to the underrepresented classes, the model gives them more importance during training, improving its ability to learn from these classes.\n",
        "\n",
        "`cw_dict` stores these weights in a dictionary format, which is later used during model training to adjust the loss function accordingly."
      ]
    },
    {
      "cell_type": "code",
      "execution_count": 57,
      "metadata": {
        "id": "-MSaQ8ChtnWL"
      },
      "outputs": [],
      "source": [
        "# Calculate balanced weights to handle class imbalance\n",
        "cw = compute_class_weight(class_weight='balanced', classes=np.unique(y_train_enc), y=y_train_enc)\n",
        "cw_dict = dict(enumerate(cw))"
      ]
    },
    {
      "cell_type": "markdown",
      "metadata": {
        "id": "a3wliYuZtqx5"
      },
      "source": [
        "#### Load GloVe Embeddings"
      ]
    },
    {
      "cell_type": "markdown",
      "metadata": {
        "id": "Dp8sUE8cxmCC"
      },
      "source": [
        "In this model we used pre-trained GloVe (Global Vectors for Word Representation) embeddings. GloVe is an unsupervised learning algorithm for generating word embeddings, which are dense vector representations of words. The file `glove.6B.300d.txt` contains the word vectors, where each word in the vocabulary is represented by a 300-dimensional vector.\n",
        "\n",
        "- `embedding_dim = 300`: Specifies the dimensionality of the word vectors, which in this case is 300. This means each word will be represented by a 300-dimensional vector.\n",
        "\n",
        "Using pre-trained embeddings like GloVe allows the model to leverage rich, contextual information about words that were learned from vast amounts of text, which can significantly improve the performance of natural language processing (NLP) models."
      ]
    },
    {
      "cell_type": "code",
      "execution_count": 58,
      "metadata": {
        "id": "P2NfMJxmtukj"
      },
      "outputs": [],
      "source": [
        "# Load pretrained GloVe embeddings\n",
        "embedding_dim = 300\n",
        "glove_path = \"/content/glove.6B.300d.txt\""
      ]
    },
    {
      "cell_type": "code",
      "execution_count": 59,
      "metadata": {
        "id": "pOVH8cK5txay"
      },
      "outputs": [],
      "source": [
        "# Create embedding index from GloVe file\n",
        "embeddings_index = {}\n",
        "with open(glove_path, encoding=\"utf8\") as f:\n",
        "    for line in f:\n",
        "        values = line.split()\n",
        "        word = values[0]\n",
        "        vector = np.asarray(values[1:], dtype=\"float32\")\n",
        "        embeddings_index[word] = vector\n"
      ]
    },
    {
      "cell_type": "code",
      "execution_count": 60,
      "metadata": {
        "id": "XRnV6D-utjUK"
      },
      "outputs": [],
      "source": [
        "# Build embedding matrix\n",
        "word_index = tokenizer.word_index\n",
        "num_words = min(max_vocab, len(word_index) + 1)\n",
        "embedding_matrix = np.zeros((num_words, embedding_dim))\n",
        "for word, i in word_index.items():\n",
        "    if i < max_vocab:\n",
        "        embedding_vector = embeddings_index.get(word)\n",
        "        if embedding_vector is not None:\n",
        "            embedding_matrix[i] = embedding_vector\n"
      ]
    },
    {
      "cell_type": "markdown",
      "metadata": {
        "id": "7QCrd1idt4t2"
      },
      "source": [
        "#### Model Architecture"
      ]
    },
    {
      "cell_type": "markdown",
      "metadata": {
        "id": "zbX3BFNmzYZe"
      },
      "source": [
        "This model processes input sequences of length 400, starting with an embedding layer that maps tokens to 300-dimensional GloVe vectors. To prevent overfitting, SpatialDropout1D is applied to the embeddings. It uses three Conv1D layers with different kernel sizes (3, 4, 5) for feature extraction, followed by GlobalMaxPooling1D to capture the most important features from each filter. These features are concatenated and passed through dense layers (128 and 64 units), with batch normalization and dropout for regularization. The final output layer has 3 units for class predictions using softmax activation. The model has 3,364,327 parameters, primarily trainable, combining convolutional and dense layers for effective text classification."
      ]
    },
    {
      "cell_type": "code",
      "execution_count": 61,
      "metadata": {
        "id": "l_nxqdIct9Cs"
      },
      "outputs": [],
      "source": [
        "# Define input layer\n",
        "inputs = Input(shape=(max_length,))"
      ]
    },
    {
      "cell_type": "code",
      "execution_count": 62,
      "metadata": {
        "id": "e6R4J0_pt9NL"
      },
      "outputs": [],
      "source": [
        "# Embedding layer with pretrained weights and L2 regularization\n",
        "embedding = Embedding(input_dim=num_words, output_dim=embedding_dim,\n",
        "                      weights=[embedding_matrix], trainable=True, embeddings_regularizer=l2(1e-5))(inputs)\n"
      ]
    },
    {
      "cell_type": "code",
      "execution_count": 63,
      "metadata": {
        "id": "tun1Yo85t9VF"
      },
      "outputs": [],
      "source": [
        "# Apply spatial dropout for regularization\n",
        "x = SpatialDropout1D(0.4)(embedding)"
      ]
    },
    {
      "cell_type": "code",
      "execution_count": 64,
      "metadata": {
        "id": "ZgIduXV_uGDn"
      },
      "outputs": [],
      "source": [
        "# Apply parallel Conv1D layers with different kernel sizes\n",
        "conv_3 = Conv1D(128, 3, activation=\"relu\", kernel_regularizer=l2(1e-5))(x)\n",
        "conv_4 = Conv1D(128, 4, activation=\"relu\", kernel_regularizer=l2(1e-5))(x)\n",
        "conv_5 = Conv1D(128, 5, activation=\"relu\", kernel_regularizer=l2(1e-5))(x)"
      ]
    },
    {
      "cell_type": "code",
      "execution_count": 65,
      "metadata": {
        "id": "sy-WXCY_uTn_"
      },
      "outputs": [],
      "source": [
        "# Max pooling on each conv output\n",
        "pool_3 = GlobalMaxPooling1D()(conv_3)\n",
        "pool_4 = GlobalMaxPooling1D()(conv_4)\n",
        "pool_5 = GlobalMaxPooling1D()(conv_5)"
      ]
    },
    {
      "cell_type": "code",
      "execution_count": 66,
      "metadata": {
        "id": "nDlUXjm-uUNN"
      },
      "outputs": [],
      "source": [
        "# Concatenate pooled outputs\n",
        "concat = Concatenate()([pool_3, pool_4, pool_5])"
      ]
    },
    {
      "cell_type": "code",
      "execution_count": 67,
      "metadata": {
        "id": "E3hR-bqMufhM"
      },
      "outputs": [],
      "source": [
        "# Fully connected layers with batch normalization and dropout\n",
        "x = Dense(128, activation=\"relu\", kernel_regularizer=l2(1e-5))(concat)\n",
        "x = BatchNormalization()(x)\n",
        "x = Dropout(0.7)(x)\n",
        "\n",
        "x = Dense(64, activation=\"relu\", kernel_regularizer=l2(1e-5))(x)\n",
        "x = Dropout(0.7)(x)\n"
      ]
    },
    {
      "cell_type": "code",
      "execution_count": 68,
      "metadata": {
        "id": "ZyEH6QyPum9P"
      },
      "outputs": [],
      "source": [
        "# Output layer\n",
        "outputs = Dense(num_classes, activation=\"softmax\")(x)\n"
      ]
    },
    {
      "cell_type": "code",
      "execution_count": 69,
      "metadata": {
        "colab": {
          "base_uri": "https://localhost:8080/",
          "height": 817
        },
        "id": "TKMH4oS6unf7",
        "outputId": "f317bb6d-88cd-4167-b760-ebf4a2d24e0b"
      },
      "outputs": [
        {
          "data": {
            "text/html": [
              "<pre style=\"white-space:pre;overflow-x:auto;line-height:normal;font-family:Menlo,'DejaVu Sans Mono',consolas,'Courier New',monospace\"><span style=\"font-weight: bold\">Model: \"functional_9\"</span>\n",
              "</pre>\n"
            ],
            "text/plain": [
              "\u001b[1mModel: \"functional_9\"\u001b[0m\n"
            ]
          },
          "metadata": {},
          "output_type": "display_data"
        },
        {
          "data": {
            "text/html": [
              "<pre style=\"white-space:pre;overflow-x:auto;line-height:normal;font-family:Menlo,'DejaVu Sans Mono',consolas,'Courier New',monospace\">┏━━━━━━━━━━━━━━━━━━━━━┳━━━━━━━━━━━━━━━━━━━┳━━━━━━━━━━━━┳━━━━━━━━━━━━━━━━━━━┓\n",
              "┃<span style=\"font-weight: bold\"> Layer (type)        </span>┃<span style=\"font-weight: bold\"> Output Shape      </span>┃<span style=\"font-weight: bold\">    Param # </span>┃<span style=\"font-weight: bold\"> Connected to      </span>┃\n",
              "┡━━━━━━━━━━━━━━━━━━━━━╇━━━━━━━━━━━━━━━━━━━╇━━━━━━━━━━━━╇━━━━━━━━━━━━━━━━━━━┩\n",
              "│ input_layer_9       │ (<span style=\"color: #00d7ff; text-decoration-color: #00d7ff\">None</span>, <span style=\"color: #00af00; text-decoration-color: #00af00\">400</span>)       │          <span style=\"color: #00af00; text-decoration-color: #00af00\">0</span> │ -                 │\n",
              "│ (<span style=\"color: #0087ff; text-decoration-color: #0087ff\">InputLayer</span>)        │                   │            │                   │\n",
              "├─────────────────────┼───────────────────┼────────────┼───────────────────┤\n",
              "│ embedding_9         │ (<span style=\"color: #00d7ff; text-decoration-color: #00d7ff\">None</span>, <span style=\"color: #00af00; text-decoration-color: #00af00\">400</span>, <span style=\"color: #00af00; text-decoration-color: #00af00\">300</span>)  │  <span style=\"color: #00af00; text-decoration-color: #00af00\">2,844,900</span> │ input_layer_9[<span style=\"color: #00af00; text-decoration-color: #00af00\">0</span>]… │\n",
              "│ (<span style=\"color: #0087ff; text-decoration-color: #0087ff\">Embedding</span>)         │                   │            │                   │\n",
              "├─────────────────────┼───────────────────┼────────────┼───────────────────┤\n",
              "│ spatial_dropout1d_9 │ (<span style=\"color: #00d7ff; text-decoration-color: #00d7ff\">None</span>, <span style=\"color: #00af00; text-decoration-color: #00af00\">400</span>, <span style=\"color: #00af00; text-decoration-color: #00af00\">300</span>)  │          <span style=\"color: #00af00; text-decoration-color: #00af00\">0</span> │ embedding_9[<span style=\"color: #00af00; text-decoration-color: #00af00\">0</span>][<span style=\"color: #00af00; text-decoration-color: #00af00\">0</span>] │\n",
              "│ (<span style=\"color: #0087ff; text-decoration-color: #0087ff\">SpatialDropout1D</span>)  │                   │            │                   │\n",
              "├─────────────────────┼───────────────────┼────────────┼───────────────────┤\n",
              "│ conv1d_27 (<span style=\"color: #0087ff; text-decoration-color: #0087ff\">Conv1D</span>)  │ (<span style=\"color: #00d7ff; text-decoration-color: #00d7ff\">None</span>, <span style=\"color: #00af00; text-decoration-color: #00af00\">398</span>, <span style=\"color: #00af00; text-decoration-color: #00af00\">128</span>)  │    <span style=\"color: #00af00; text-decoration-color: #00af00\">115,328</span> │ spatial_dropout1… │\n",
              "├─────────────────────┼───────────────────┼────────────┼───────────────────┤\n",
              "│ conv1d_28 (<span style=\"color: #0087ff; text-decoration-color: #0087ff\">Conv1D</span>)  │ (<span style=\"color: #00d7ff; text-decoration-color: #00d7ff\">None</span>, <span style=\"color: #00af00; text-decoration-color: #00af00\">397</span>, <span style=\"color: #00af00; text-decoration-color: #00af00\">128</span>)  │    <span style=\"color: #00af00; text-decoration-color: #00af00\">153,728</span> │ spatial_dropout1… │\n",
              "├─────────────────────┼───────────────────┼────────────┼───────────────────┤\n",
              "│ conv1d_29 (<span style=\"color: #0087ff; text-decoration-color: #0087ff\">Conv1D</span>)  │ (<span style=\"color: #00d7ff; text-decoration-color: #00d7ff\">None</span>, <span style=\"color: #00af00; text-decoration-color: #00af00\">396</span>, <span style=\"color: #00af00; text-decoration-color: #00af00\">128</span>)  │    <span style=\"color: #00af00; text-decoration-color: #00af00\">192,128</span> │ spatial_dropout1… │\n",
              "├─────────────────────┼───────────────────┼────────────┼───────────────────┤\n",
              "│ global_max_pooling… │ (<span style=\"color: #00d7ff; text-decoration-color: #00d7ff\">None</span>, <span style=\"color: #00af00; text-decoration-color: #00af00\">128</span>)       │          <span style=\"color: #00af00; text-decoration-color: #00af00\">0</span> │ conv1d_27[<span style=\"color: #00af00; text-decoration-color: #00af00\">0</span>][<span style=\"color: #00af00; text-decoration-color: #00af00\">0</span>]   │\n",
              "│ (<span style=\"color: #0087ff; text-decoration-color: #0087ff\">GlobalMaxPooling1…</span> │                   │            │                   │\n",
              "├─────────────────────┼───────────────────┼────────────┼───────────────────┤\n",
              "│ global_max_pooling… │ (<span style=\"color: #00d7ff; text-decoration-color: #00d7ff\">None</span>, <span style=\"color: #00af00; text-decoration-color: #00af00\">128</span>)       │          <span style=\"color: #00af00; text-decoration-color: #00af00\">0</span> │ conv1d_28[<span style=\"color: #00af00; text-decoration-color: #00af00\">0</span>][<span style=\"color: #00af00; text-decoration-color: #00af00\">0</span>]   │\n",
              "│ (<span style=\"color: #0087ff; text-decoration-color: #0087ff\">GlobalMaxPooling1…</span> │                   │            │                   │\n",
              "├─────────────────────┼───────────────────┼────────────┼───────────────────┤\n",
              "│ global_max_pooling… │ (<span style=\"color: #00d7ff; text-decoration-color: #00d7ff\">None</span>, <span style=\"color: #00af00; text-decoration-color: #00af00\">128</span>)       │          <span style=\"color: #00af00; text-decoration-color: #00af00\">0</span> │ conv1d_29[<span style=\"color: #00af00; text-decoration-color: #00af00\">0</span>][<span style=\"color: #00af00; text-decoration-color: #00af00\">0</span>]   │\n",
              "│ (<span style=\"color: #0087ff; text-decoration-color: #0087ff\">GlobalMaxPooling1…</span> │                   │            │                   │\n",
              "├─────────────────────┼───────────────────┼────────────┼───────────────────┤\n",
              "│ concatenate_9       │ (<span style=\"color: #00d7ff; text-decoration-color: #00d7ff\">None</span>, <span style=\"color: #00af00; text-decoration-color: #00af00\">384</span>)       │          <span style=\"color: #00af00; text-decoration-color: #00af00\">0</span> │ global_max_pooli… │\n",
              "│ (<span style=\"color: #0087ff; text-decoration-color: #0087ff\">Concatenate</span>)       │                   │            │ global_max_pooli… │\n",
              "│                     │                   │            │ global_max_pooli… │\n",
              "├─────────────────────┼───────────────────┼────────────┼───────────────────┤\n",
              "│ dense_29 (<span style=\"color: #0087ff; text-decoration-color: #0087ff\">Dense</span>)    │ (<span style=\"color: #00d7ff; text-decoration-color: #00d7ff\">None</span>, <span style=\"color: #00af00; text-decoration-color: #00af00\">128</span>)       │     <span style=\"color: #00af00; text-decoration-color: #00af00\">49,280</span> │ concatenate_9[<span style=\"color: #00af00; text-decoration-color: #00af00\">0</span>]… │\n",
              "├─────────────────────┼───────────────────┼────────────┼───────────────────┤\n",
              "│ batch_normalizatio… │ (<span style=\"color: #00d7ff; text-decoration-color: #00d7ff\">None</span>, <span style=\"color: #00af00; text-decoration-color: #00af00\">128</span>)       │        <span style=\"color: #00af00; text-decoration-color: #00af00\">512</span> │ dense_29[<span style=\"color: #00af00; text-decoration-color: #00af00\">0</span>][<span style=\"color: #00af00; text-decoration-color: #00af00\">0</span>]    │\n",
              "│ (<span style=\"color: #0087ff; text-decoration-color: #0087ff\">BatchNormalizatio…</span> │                   │            │                   │\n",
              "├─────────────────────┼───────────────────┼────────────┼───────────────────┤\n",
              "│ dropout_20          │ (<span style=\"color: #00d7ff; text-decoration-color: #00d7ff\">None</span>, <span style=\"color: #00af00; text-decoration-color: #00af00\">128</span>)       │          <span style=\"color: #00af00; text-decoration-color: #00af00\">0</span> │ batch_normalizat… │\n",
              "│ (<span style=\"color: #0087ff; text-decoration-color: #0087ff\">Dropout</span>)           │                   │            │                   │\n",
              "├─────────────────────┼───────────────────┼────────────┼───────────────────┤\n",
              "│ dense_30 (<span style=\"color: #0087ff; text-decoration-color: #0087ff\">Dense</span>)    │ (<span style=\"color: #00d7ff; text-decoration-color: #00d7ff\">None</span>, <span style=\"color: #00af00; text-decoration-color: #00af00\">64</span>)        │      <span style=\"color: #00af00; text-decoration-color: #00af00\">8,256</span> │ dropout_20[<span style=\"color: #00af00; text-decoration-color: #00af00\">0</span>][<span style=\"color: #00af00; text-decoration-color: #00af00\">0</span>]  │\n",
              "├─────────────────────┼───────────────────┼────────────┼───────────────────┤\n",
              "│ dropout_21          │ (<span style=\"color: #00d7ff; text-decoration-color: #00d7ff\">None</span>, <span style=\"color: #00af00; text-decoration-color: #00af00\">64</span>)        │          <span style=\"color: #00af00; text-decoration-color: #00af00\">0</span> │ dense_30[<span style=\"color: #00af00; text-decoration-color: #00af00\">0</span>][<span style=\"color: #00af00; text-decoration-color: #00af00\">0</span>]    │\n",
              "│ (<span style=\"color: #0087ff; text-decoration-color: #0087ff\">Dropout</span>)           │                   │            │                   │\n",
              "├─────────────────────┼───────────────────┼────────────┼───────────────────┤\n",
              "│ dense_31 (<span style=\"color: #0087ff; text-decoration-color: #0087ff\">Dense</span>)    │ (<span style=\"color: #00d7ff; text-decoration-color: #00d7ff\">None</span>, <span style=\"color: #00af00; text-decoration-color: #00af00\">3</span>)         │        <span style=\"color: #00af00; text-decoration-color: #00af00\">195</span> │ dropout_21[<span style=\"color: #00af00; text-decoration-color: #00af00\">0</span>][<span style=\"color: #00af00; text-decoration-color: #00af00\">0</span>]  │\n",
              "└─────────────────────┴───────────────────┴────────────┴───────────────────┘\n",
              "</pre>\n"
            ],
            "text/plain": [
              "┏━━━━━━━━━━━━━━━━━━━━━┳━━━━━━━━━━━━━━━━━━━┳━━━━━━━━━━━━┳━━━━━━━━━━━━━━━━━━━┓\n",
              "┃\u001b[1m \u001b[0m\u001b[1mLayer (type)       \u001b[0m\u001b[1m \u001b[0m┃\u001b[1m \u001b[0m\u001b[1mOutput Shape     \u001b[0m\u001b[1m \u001b[0m┃\u001b[1m \u001b[0m\u001b[1m   Param #\u001b[0m\u001b[1m \u001b[0m┃\u001b[1m \u001b[0m\u001b[1mConnected to     \u001b[0m\u001b[1m \u001b[0m┃\n",
              "┡━━━━━━━━━━━━━━━━━━━━━╇━━━━━━━━━━━━━━━━━━━╇━━━━━━━━━━━━╇━━━━━━━━━━━━━━━━━━━┩\n",
              "│ input_layer_9       │ (\u001b[38;5;45mNone\u001b[0m, \u001b[38;5;34m400\u001b[0m)       │          \u001b[38;5;34m0\u001b[0m │ -                 │\n",
              "│ (\u001b[38;5;33mInputLayer\u001b[0m)        │                   │            │                   │\n",
              "├─────────────────────┼───────────────────┼────────────┼───────────────────┤\n",
              "│ embedding_9         │ (\u001b[38;5;45mNone\u001b[0m, \u001b[38;5;34m400\u001b[0m, \u001b[38;5;34m300\u001b[0m)  │  \u001b[38;5;34m2,844,900\u001b[0m │ input_layer_9[\u001b[38;5;34m0\u001b[0m]… │\n",
              "│ (\u001b[38;5;33mEmbedding\u001b[0m)         │                   │            │                   │\n",
              "├─────────────────────┼───────────────────┼────────────┼───────────────────┤\n",
              "│ spatial_dropout1d_9 │ (\u001b[38;5;45mNone\u001b[0m, \u001b[38;5;34m400\u001b[0m, \u001b[38;5;34m300\u001b[0m)  │          \u001b[38;5;34m0\u001b[0m │ embedding_9[\u001b[38;5;34m0\u001b[0m][\u001b[38;5;34m0\u001b[0m] │\n",
              "│ (\u001b[38;5;33mSpatialDropout1D\u001b[0m)  │                   │            │                   │\n",
              "├─────────────────────┼───────────────────┼────────────┼───────────────────┤\n",
              "│ conv1d_27 (\u001b[38;5;33mConv1D\u001b[0m)  │ (\u001b[38;5;45mNone\u001b[0m, \u001b[38;5;34m398\u001b[0m, \u001b[38;5;34m128\u001b[0m)  │    \u001b[38;5;34m115,328\u001b[0m │ spatial_dropout1… │\n",
              "├─────────────────────┼───────────────────┼────────────┼───────────────────┤\n",
              "│ conv1d_28 (\u001b[38;5;33mConv1D\u001b[0m)  │ (\u001b[38;5;45mNone\u001b[0m, \u001b[38;5;34m397\u001b[0m, \u001b[38;5;34m128\u001b[0m)  │    \u001b[38;5;34m153,728\u001b[0m │ spatial_dropout1… │\n",
              "├─────────────────────┼───────────────────┼────────────┼───────────────────┤\n",
              "│ conv1d_29 (\u001b[38;5;33mConv1D\u001b[0m)  │ (\u001b[38;5;45mNone\u001b[0m, \u001b[38;5;34m396\u001b[0m, \u001b[38;5;34m128\u001b[0m)  │    \u001b[38;5;34m192,128\u001b[0m │ spatial_dropout1… │\n",
              "├─────────────────────┼───────────────────┼────────────┼───────────────────┤\n",
              "│ global_max_pooling… │ (\u001b[38;5;45mNone\u001b[0m, \u001b[38;5;34m128\u001b[0m)       │          \u001b[38;5;34m0\u001b[0m │ conv1d_27[\u001b[38;5;34m0\u001b[0m][\u001b[38;5;34m0\u001b[0m]   │\n",
              "│ (\u001b[38;5;33mGlobalMaxPooling1…\u001b[0m │                   │            │                   │\n",
              "├─────────────────────┼───────────────────┼────────────┼───────────────────┤\n",
              "│ global_max_pooling… │ (\u001b[38;5;45mNone\u001b[0m, \u001b[38;5;34m128\u001b[0m)       │          \u001b[38;5;34m0\u001b[0m │ conv1d_28[\u001b[38;5;34m0\u001b[0m][\u001b[38;5;34m0\u001b[0m]   │\n",
              "│ (\u001b[38;5;33mGlobalMaxPooling1…\u001b[0m │                   │            │                   │\n",
              "├─────────────────────┼───────────────────┼────────────┼───────────────────┤\n",
              "│ global_max_pooling… │ (\u001b[38;5;45mNone\u001b[0m, \u001b[38;5;34m128\u001b[0m)       │          \u001b[38;5;34m0\u001b[0m │ conv1d_29[\u001b[38;5;34m0\u001b[0m][\u001b[38;5;34m0\u001b[0m]   │\n",
              "│ (\u001b[38;5;33mGlobalMaxPooling1…\u001b[0m │                   │            │                   │\n",
              "├─────────────────────┼───────────────────┼────────────┼───────────────────┤\n",
              "│ concatenate_9       │ (\u001b[38;5;45mNone\u001b[0m, \u001b[38;5;34m384\u001b[0m)       │          \u001b[38;5;34m0\u001b[0m │ global_max_pooli… │\n",
              "│ (\u001b[38;5;33mConcatenate\u001b[0m)       │                   │            │ global_max_pooli… │\n",
              "│                     │                   │            │ global_max_pooli… │\n",
              "├─────────────────────┼───────────────────┼────────────┼───────────────────┤\n",
              "│ dense_29 (\u001b[38;5;33mDense\u001b[0m)    │ (\u001b[38;5;45mNone\u001b[0m, \u001b[38;5;34m128\u001b[0m)       │     \u001b[38;5;34m49,280\u001b[0m │ concatenate_9[\u001b[38;5;34m0\u001b[0m]… │\n",
              "├─────────────────────┼───────────────────┼────────────┼───────────────────┤\n",
              "│ batch_normalizatio… │ (\u001b[38;5;45mNone\u001b[0m, \u001b[38;5;34m128\u001b[0m)       │        \u001b[38;5;34m512\u001b[0m │ dense_29[\u001b[38;5;34m0\u001b[0m][\u001b[38;5;34m0\u001b[0m]    │\n",
              "│ (\u001b[38;5;33mBatchNormalizatio…\u001b[0m │                   │            │                   │\n",
              "├─────────────────────┼───────────────────┼────────────┼───────────────────┤\n",
              "│ dropout_20          │ (\u001b[38;5;45mNone\u001b[0m, \u001b[38;5;34m128\u001b[0m)       │          \u001b[38;5;34m0\u001b[0m │ batch_normalizat… │\n",
              "│ (\u001b[38;5;33mDropout\u001b[0m)           │                   │            │                   │\n",
              "├─────────────────────┼───────────────────┼────────────┼───────────────────┤\n",
              "│ dense_30 (\u001b[38;5;33mDense\u001b[0m)    │ (\u001b[38;5;45mNone\u001b[0m, \u001b[38;5;34m64\u001b[0m)        │      \u001b[38;5;34m8,256\u001b[0m │ dropout_20[\u001b[38;5;34m0\u001b[0m][\u001b[38;5;34m0\u001b[0m]  │\n",
              "├─────────────────────┼───────────────────┼────────────┼───────────────────┤\n",
              "│ dropout_21          │ (\u001b[38;5;45mNone\u001b[0m, \u001b[38;5;34m64\u001b[0m)        │          \u001b[38;5;34m0\u001b[0m │ dense_30[\u001b[38;5;34m0\u001b[0m][\u001b[38;5;34m0\u001b[0m]    │\n",
              "│ (\u001b[38;5;33mDropout\u001b[0m)           │                   │            │                   │\n",
              "├─────────────────────┼───────────────────┼────────────┼───────────────────┤\n",
              "│ dense_31 (\u001b[38;5;33mDense\u001b[0m)    │ (\u001b[38;5;45mNone\u001b[0m, \u001b[38;5;34m3\u001b[0m)         │        \u001b[38;5;34m195\u001b[0m │ dropout_21[\u001b[38;5;34m0\u001b[0m][\u001b[38;5;34m0\u001b[0m]  │\n",
              "└─────────────────────┴───────────────────┴────────────┴───────────────────┘\n"
            ]
          },
          "metadata": {},
          "output_type": "display_data"
        },
        {
          "data": {
            "text/html": [
              "<pre style=\"white-space:pre;overflow-x:auto;line-height:normal;font-family:Menlo,'DejaVu Sans Mono',consolas,'Courier New',monospace\"><span style=\"font-weight: bold\"> Total params: </span><span style=\"color: #00af00; text-decoration-color: #00af00\">3,364,327</span> (12.83 MB)\n",
              "</pre>\n"
            ],
            "text/plain": [
              "\u001b[1m Total params: \u001b[0m\u001b[38;5;34m3,364,327\u001b[0m (12.83 MB)\n"
            ]
          },
          "metadata": {},
          "output_type": "display_data"
        },
        {
          "data": {
            "text/html": [
              "<pre style=\"white-space:pre;overflow-x:auto;line-height:normal;font-family:Menlo,'DejaVu Sans Mono',consolas,'Courier New',monospace\"><span style=\"font-weight: bold\"> Trainable params: </span><span style=\"color: #00af00; text-decoration-color: #00af00\">3,364,071</span> (12.83 MB)\n",
              "</pre>\n"
            ],
            "text/plain": [
              "\u001b[1m Trainable params: \u001b[0m\u001b[38;5;34m3,364,071\u001b[0m (12.83 MB)\n"
            ]
          },
          "metadata": {},
          "output_type": "display_data"
        },
        {
          "data": {
            "text/html": [
              "<pre style=\"white-space:pre;overflow-x:auto;line-height:normal;font-family:Menlo,'DejaVu Sans Mono',consolas,'Courier New',monospace\"><span style=\"font-weight: bold\"> Non-trainable params: </span><span style=\"color: #00af00; text-decoration-color: #00af00\">256</span> (1.00 KB)\n",
              "</pre>\n"
            ],
            "text/plain": [
              "\u001b[1m Non-trainable params: \u001b[0m\u001b[38;5;34m256\u001b[0m (1.00 KB)\n"
            ]
          },
          "metadata": {},
          "output_type": "display_data"
        }
      ],
      "source": [
        "# Compile model\n",
        "model = Model(inputs=inputs, outputs=outputs)\n",
        "model.compile(loss=\"categorical_crossentropy\", optimizer=\"adam\", metrics=[\"accuracy\"])\n",
        "model.summary()\n"
      ]
    },
    {
      "cell_type": "markdown",
      "metadata": {
        "id": "s3xruX8purha"
      },
      "source": [
        "#### Callbacks for training"
      ]
    },
    {
      "cell_type": "code",
      "execution_count": 70,
      "metadata": {
        "id": "mgrKxCVzuuRn"
      },
      "outputs": [],
      "source": [
        "early_stop = EarlyStopping(monitor=\"val_loss\", patience=5, restore_best_weights=True)\n",
        "reduce_lr = ReduceLROnPlateau(monitor=\"val_loss\", factor=0.5, patience=2, min_lr=1e-6, verbose=1)"
      ]
    },
    {
      "cell_type": "markdown",
      "metadata": {
        "id": "S-QEg1HZuQsN"
      },
      "source": [
        "#### Train"
      ]
    },
    {
      "cell_type": "code",
      "execution_count": 71,
      "metadata": {
        "colab": {
          "base_uri": "https://localhost:8080/"
        },
        "id": "R010uN4ou4II",
        "outputId": "114686d2-83e5-4be6-eca5-5e50b7cdef5e"
      },
      "outputs": [
        {
          "name": "stdout",
          "output_type": "stream",
          "text": [
            "Epoch 1/45\n",
            "2758/2758 - 26s - 10ms/step - accuracy: 0.5104 - loss: 2.1952 - val_accuracy: 0.6235 - val_loss: 1.5150 - learning_rate: 1.0000e-03\n",
            "Epoch 2/45\n",
            "2758/2758 - 18s - 7ms/step - accuracy: 0.5880 - loss: 1.4054 - val_accuracy: 0.6308 - val_loss: 1.1371 - learning_rate: 1.0000e-03\n",
            "Epoch 3/45\n",
            "2758/2758 - 21s - 8ms/step - accuracy: 0.6119 - loss: 1.1176 - val_accuracy: 0.6517 - val_loss: 0.9505 - learning_rate: 1.0000e-03\n",
            "Epoch 4/45\n",
            "2758/2758 - 18s - 6ms/step - accuracy: 0.6337 - loss: 0.9881 - val_accuracy: 0.6555 - val_loss: 0.8944 - learning_rate: 1.0000e-03\n",
            "Epoch 5/45\n",
            "2758/2758 - 21s - 8ms/step - accuracy: 0.6444 - loss: 0.9322 - val_accuracy: 0.6778 - val_loss: 0.8473 - learning_rate: 1.0000e-03\n",
            "Epoch 6/45\n",
            "2758/2758 - 21s - 8ms/step - accuracy: 0.6630 - loss: 0.8927 - val_accuracy: 0.6876 - val_loss: 0.8360 - learning_rate: 1.0000e-03\n",
            "Epoch 7/45\n",
            "2758/2758 - 20s - 7ms/step - accuracy: 0.6818 - loss: 0.8648 - val_accuracy: 0.6865 - val_loss: 0.8345 - learning_rate: 1.0000e-03\n",
            "Epoch 8/45\n",
            "2758/2758 - 21s - 8ms/step - accuracy: 0.6947 - loss: 0.8503 - val_accuracy: 0.6856 - val_loss: 0.8447 - learning_rate: 1.0000e-03\n",
            "Epoch 9/45\n",
            "\n",
            "Epoch 9: ReduceLROnPlateau reducing learning rate to 0.0005000000237487257.\n",
            "2758/2758 - 20s - 7ms/step - accuracy: 0.7065 - loss: 0.8315 - val_accuracy: 0.6932 - val_loss: 0.8520 - learning_rate: 1.0000e-03\n",
            "Epoch 10/45\n",
            "2758/2758 - 21s - 8ms/step - accuracy: 0.7387 - loss: 0.7668 - val_accuracy: 0.7033 - val_loss: 0.8802 - learning_rate: 5.0000e-04\n",
            "Epoch 11/45\n",
            "\n",
            "Epoch 11: ReduceLROnPlateau reducing learning rate to 0.0002500000118743628.\n",
            "2758/2758 - 18s - 6ms/step - accuracy: 0.7634 - loss: 0.7280 - val_accuracy: 0.7053 - val_loss: 0.8763 - learning_rate: 5.0000e-04\n",
            "Epoch 12/45\n",
            "2758/2758 - 18s - 7ms/step - accuracy: 0.7887 - loss: 0.6736 - val_accuracy: 0.7111 - val_loss: 0.9044 - learning_rate: 2.5000e-04\n"
          ]
        }
      ],
      "source": [
        "history = model.fit(\n",
        "    x_train_pad, y_train_cat,\n",
        "    epochs=45,\n",
        "    batch_size=10,\n",
        "    validation_data=(x_valid_pad, y_valid_cat),\n",
        "    callbacks=[early_stop, reduce_lr],\n",
        "    class_weight=cw_dict,\n",
        "    verbose=2\n",
        ")"
      ]
    },
    {
      "cell_type": "markdown",
      "metadata": {
        "id": "nlU8T9DGu9ij"
      },
      "source": [
        "#### Evaluation"
      ]
    },
    {
      "cell_type": "code",
      "execution_count": 72,
      "metadata": {
        "colab": {
          "base_uri": "https://localhost:8080/"
        },
        "id": "WdzSjUJlvAHf",
        "outputId": "494c61fc-6072-4b9a-db3a-bad3b5999aef"
      },
      "outputs": [
        {
          "name": "stdout",
          "output_type": "stream",
          "text": [
            "Test Loss: 0.8515, Test Accuracy: 0.6900\n"
          ]
        }
      ],
      "source": [
        "test_loss, test_accuracy = model.evaluate(x_test_pad, y_test_cat, verbose=0)\n",
        "print(f\"Test Loss: {test_loss:.4f}, Test Accuracy: {test_accuracy:.4f}\")"
      ]
    },
    {
      "cell_type": "code",
      "execution_count": 73,
      "metadata": {
        "colab": {
          "base_uri": "https://localhost:8080/",
          "height": 607
        },
        "id": "udsfqRE-v0_t",
        "outputId": "c43a2a29-15e2-4437-e03c-81018872d3a1"
      },
      "outputs": [
        {
          "data": {
            "image/png": "[encoded data removed]",
            "text/plain": [
              "<Figure size 1000x600 with 1 Axes>"
            ]
          },
          "metadata": {},
          "output_type": "display_data"
        }
      ],
      "source": [
        "# Plot training & validation accuracy values\n",
        "plt.figure(figsize=(10, 6))\n",
        "plt.plot(history.history['accuracy'], label='Train Accuracy', linewidth=2)\n",
        "plt.plot(history.history['val_accuracy'], label='Validation Accuracy', linewidth=2)\n",
        "\n",
        "epochs = len(history.history['accuracy'])\n",
        "plt.axhline(y=test_accuracy, color='green', linestyle='--', label=f'Test Accuracy: {test_accuracy:.2f}')\n",
        "\n",
        "plt.title('Model Accuracy over Epochs')\n",
        "plt.xlabel('Epoch')\n",
        "plt.ylabel('Accuracy')\n",
        "plt.legend(loc='lower right')\n",
        "plt.grid(True)\n",
        "plt.tight_layout()\n",
        "plt.show()"
      ]
    },
    {
      "cell_type": "markdown",
      "metadata": {
        "id": "v1oHzg1ZzqAd"
      },
      "source": [
        "**Training Accuracy Curve**\n",
        "\n",
        "*   Starts at around 50% and steadily increases, approaching 80% near the last epoch. This suggests that the model continues to learn with each epoch and has not yet reached its optimal fit on the training set.\n",
        "\n",
        "**Validation Accuracy Curve**\n",
        "\n",
        "*   Begins slightly higher than the training curve (around 55%) and rises to about 70% in the later epochs. It stays below the training curve, which is normal and expected: the model generally performs better on the training set than on unseen data (validation).\n",
        "\n",
        "**Test Accuracy (0.69)**\n",
        "\n",
        "*   The dashed line around 0.69 is very close to the final validation accuracy (~0.70). This indicates that the performance on the test set is quite similar to that on the validation set, suggesting reasonable generalization with no significant overfitting or underfitting.\n"
      ]
    },
    {
      "cell_type": "markdown",
      "metadata": {
        "id": "EoTp1bWlzCua"
      },
      "source": [
        "**Confusion Matrix**"
      ]
    },
    {
      "cell_type": "code",
      "execution_count": 76,
      "metadata": {
        "colab": {
          "base_uri": "https://localhost:8080/"
        },
        "id": "_HFvaAX8zGUK",
        "outputId": "be0a6c8d-d6df-4e8e-e6db-9c48b4556bd8"
      },
      "outputs": [
        {
          "name": "stdout",
          "output_type": "stream",
          "text": [
            "\u001b[1m108/108\u001b[0m \u001b[32m━━━━━━━━━━━━━━━━━━━━\u001b[0m\u001b[37m\u001b[0m \u001b[1m2s\u001b[0m 10ms/step\n"
          ]
        }
      ],
      "source": [
        "# Make predictions on the test data\n",
        "y_pred = model.predict(x_test_pad)\n",
        "\n",
        "# Get the predicted class labels\n",
        "y_pred_classes = np.argmax(y_pred, axis=1)\n",
        "\n",
        "# Get the true class labels\n",
        "y_true = np.argmax(y_test_cat, axis=1)"
      ]
    },
    {
      "cell_type": "code",
      "execution_count": 77,
      "metadata": {
        "colab": {
          "base_uri": "https://localhost:8080/",
          "height": 564
        },
        "id": "w0lfNmRYzFdp",
        "outputId": "6bd70a96-c5fa-405b-bfb6-73f40beeb4bd"
      },
      "outputs": [
        {
          "data": {
            "image/png": "[encoded data removed]",
            "text/plain": [
              "<Figure size 800x600 with 2 Axes>"
            ]
          },
          "metadata": {},
          "output_type": "display_data"
        }
      ],
      "source": [
        "# Generate the confusion matrix\n",
        "cm = confusion_matrix(y_true, y_pred_classes)\n",
        "\n",
        "plt.figure(figsize=(8, 6))\n",
        "sns.heatmap(cm, annot=True, fmt='d', cmap='Blues', xticklabels=label_encoder.classes_, yticklabels=label_encoder.classes_)\n",
        "plt.xlabel('Predicted Label')\n",
        "plt.ylabel('True Label')\n",
        "plt.title('Confusion Matrix')\n",
        "plt.show()"
      ]
    },
    {
      "cell_type": "markdown",
      "metadata": {
        "id": "-lPaX17xvDnn"
      },
      "source": [
        "**Save the model**"
      ]
    },
    {
      "cell_type": "code",
      "execution_count": 79,
      "metadata": {
        "colab": {
          "base_uri": "https://localhost:8080/"
        },
        "id": "qflDu_fpvF7q",
        "outputId": "081fbe82-9e77-4f70-ac45-d7722af05e0e"
      },
      "outputs": [
        {
          "name": "stderr",
          "output_type": "stream",
          "text": [
            "WARNING:absl:You are saving your model as an HDF5 file via `model.save()` or `keras.saving.save_model(model)`. This file format is considered legacy. We recommend using instead the native Keras format, e.g. `model.save('my_model.keras')` or `keras.saving.save_model(model, 'my_model.keras')`. \n"
          ]
        }
      ],
      "source": [
        "model.save(\"/content/model_cnn_glove.h5\")"
      ]
    }
  ],
  "metadata": {
    "accelerator": "GPU",
    "colab": {
      "gpuType": "T4",
      "provenance": []
    },
    "kernelspec": {
      "display_name": "Python 3",
      "name": "python3"
    },
    "language_info": {
      "name": "python",
      "version": "3.13.2"
    }
  },
  "nbformat": 4,
  "nbformat_minor": 0
}
