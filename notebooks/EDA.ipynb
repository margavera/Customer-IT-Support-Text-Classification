{
 "cells": [
  {
   "cell_type": "markdown",
   "metadata": {},
   "source": [
    "## **Exploratory Data Analysis**"
   ]
  },
  {
   "cell_type": "markdown",
   "metadata": {},
   "source": [
    "Before introducing any model, we conducted an exploratory data analysis to clean and better understand our dataset.\n",
    " \n",
    "The dataset used in this project was obtained from Kaggle and is available at the following link:     \n",
    "[Multilingual Customer Support Tickets](https://www.kaggle.com/datasets/tobiasbueck/multilingual-customer-support-tickets?select=dataset-tickets-multi-lang3-4k.csv)   \n",
    " \n",
    "It contains a collection of real-world customer support tickets written in english or german, along with metadata such as ticket subject, body, language, assigned queue, priority, and various tags.    \n",
    " \n",
    "We chose this dataset because it offers rich information (dataset size: 40k records) that allows us to classify the appropriate queue for each support ticket based on the given details. By analyzing the info given, we aim to predict which team or department (queue) should handle the ticket.     \n",
    " \n",
    "This classification task can help to automatize the assignment process in customer support systems, ensuring that each ticket is directed to the right team for a timely and effective response."
   ]
  },
  {
   "cell_type": "markdown",
   "metadata": {},
   "source": [
    "### Import Libraries"
   ]
  },
  {
   "cell_type": "code",
   "execution_count": 2,
   "metadata": {},
   "outputs": [],
   "source": [
    "import pandas as pd"
   ]
  },
  {
   "cell_type": "markdown",
   "metadata": {},
   "source": [
    "### Dataset"
   ]
  },
  {
   "cell_type": "code",
   "execution_count": null,
   "metadata": {},
   "outputs": [
    {
     "data": {
      "text/html": [
       "<div>\n",
       "<style scoped>\n",
       "    .dataframe tbody tr th:only-of-type {\n",
       "        vertical-align: middle;\n",
       "    }\n",
       "\n",
       "    .dataframe tbody tr th {\n",
       "        vertical-align: top;\n",
       "    }\n",
       "\n",
       "    .dataframe thead th {\n",
       "        text-align: right;\n",
       "    }\n",
       "</style>\n",
       "<table border=\"1\" class=\"dataframe\">\n",
       "  <thead>\n",
       "    <tr style=\"text-align: right;\">\n",
       "      <th></th>\n",
       "      <th>subject</th>\n",
       "      <th>body</th>\n",
       "      <th>answer</th>\n",
       "      <th>type</th>\n",
       "      <th>queue</th>\n",
       "      <th>priority</th>\n",
       "      <th>language</th>\n",
       "      <th>tag_1</th>\n",
       "      <th>tag_2</th>\n",
       "      <th>tag_3</th>\n",
       "      <th>tag_4</th>\n",
       "      <th>tag_5</th>\n",
       "      <th>tag_6</th>\n",
       "      <th>tag_7</th>\n",
       "      <th>tag_8</th>\n",
       "    </tr>\n",
       "  </thead>\n",
       "  <tbody>\n",
       "    <tr>\n",
       "      <th>0</th>\n",
       "      <td>Unvorhergesehener Absturz der Datenanalyse-Pla...</td>\n",
       "      <td>Die Datenanalyse-Plattform brach unerwartet ab...</td>\n",
       "      <td>Ich werde Ihnen bei der Lösung des Problems he...</td>\n",
       "      <td>Incident</td>\n",
       "      <td>General Inquiry</td>\n",
       "      <td>low</td>\n",
       "      <td>de</td>\n",
       "      <td>Crash</td>\n",
       "      <td>Technical</td>\n",
       "      <td>Bug</td>\n",
       "      <td>Hardware</td>\n",
       "      <td>Resolution</td>\n",
       "      <td>Outage</td>\n",
       "      <td>Documentation</td>\n",
       "      <td>NaN</td>\n",
       "    </tr>\n",
       "    <tr>\n",
       "      <th>1</th>\n",
       "      <td>Customer Support Inquiry</td>\n",
       "      <td>Seeking information on digital strategies that...</td>\n",
       "      <td>We offer a variety of digital strategies and s...</td>\n",
       "      <td>Request</td>\n",
       "      <td>Customer Service</td>\n",
       "      <td>medium</td>\n",
       "      <td>en</td>\n",
       "      <td>Feedback</td>\n",
       "      <td>Sales</td>\n",
       "      <td>IT</td>\n",
       "      <td>Tech Support</td>\n",
       "      <td>NaN</td>\n",
       "      <td>NaN</td>\n",
       "      <td>NaN</td>\n",
       "      <td>NaN</td>\n",
       "    </tr>\n",
       "    <tr>\n",
       "      <th>2</th>\n",
       "      <td>Data Analytics for Investment</td>\n",
       "      <td>I am contacting you to request information on ...</td>\n",
       "      <td>I am here to assist you with data analytics to...</td>\n",
       "      <td>Request</td>\n",
       "      <td>Customer Service</td>\n",
       "      <td>medium</td>\n",
       "      <td>en</td>\n",
       "      <td>Technical</td>\n",
       "      <td>Product</td>\n",
       "      <td>Guidance</td>\n",
       "      <td>Documentation</td>\n",
       "      <td>Performance</td>\n",
       "      <td>Feature</td>\n",
       "      <td>NaN</td>\n",
       "      <td>NaN</td>\n",
       "    </tr>\n",
       "    <tr>\n",
       "      <th>3</th>\n",
       "      <td>Krankenhaus-Dienstleistung-Problem</td>\n",
       "      <td>Ein Medien-Daten-Sperrverhalten trat aufgrund ...</td>\n",
       "      <td>Zurück zur E-Mail-Beschwerde über den Sperrver...</td>\n",
       "      <td>Incident</td>\n",
       "      <td>Customer Service</td>\n",
       "      <td>high</td>\n",
       "      <td>de</td>\n",
       "      <td>Security</td>\n",
       "      <td>Breach</td>\n",
       "      <td>Login</td>\n",
       "      <td>Maintenance</td>\n",
       "      <td>Incident</td>\n",
       "      <td>Resolution</td>\n",
       "      <td>Feedback</td>\n",
       "      <td>NaN</td>\n",
       "    </tr>\n",
       "    <tr>\n",
       "      <th>4</th>\n",
       "      <td>Security</td>\n",
       "      <td>Dear Customer Support, I am reaching out to in...</td>\n",
       "      <td>Dear [name], we take the security of medical d...</td>\n",
       "      <td>Request</td>\n",
       "      <td>Customer Service</td>\n",
       "      <td>medium</td>\n",
       "      <td>en</td>\n",
       "      <td>Security</td>\n",
       "      <td>Customer</td>\n",
       "      <td>Compliance</td>\n",
       "      <td>Breach</td>\n",
       "      <td>Documentation</td>\n",
       "      <td>Guidance</td>\n",
       "      <td>NaN</td>\n",
       "      <td>NaN</td>\n",
       "    </tr>\n",
       "  </tbody>\n",
       "</table>\n",
       "</div>"
      ],
      "text/plain": [
       "                                             subject  \\\n",
       "0  Unvorhergesehener Absturz der Datenanalyse-Pla...   \n",
       "1                           Customer Support Inquiry   \n",
       "2                      Data Analytics for Investment   \n",
       "3                 Krankenhaus-Dienstleistung-Problem   \n",
       "4                                           Security   \n",
       "\n",
       "                                                body  \\\n",
       "0  Die Datenanalyse-Plattform brach unerwartet ab...   \n",
       "1  Seeking information on digital strategies that...   \n",
       "2  I am contacting you to request information on ...   \n",
       "3  Ein Medien-Daten-Sperrverhalten trat aufgrund ...   \n",
       "4  Dear Customer Support, I am reaching out to in...   \n",
       "\n",
       "                                              answer      type  \\\n",
       "0  Ich werde Ihnen bei der Lösung des Problems he...  Incident   \n",
       "1  We offer a variety of digital strategies and s...   Request   \n",
       "2  I am here to assist you with data analytics to...   Request   \n",
       "3  Zurück zur E-Mail-Beschwerde über den Sperrver...  Incident   \n",
       "4  Dear [name], we take the security of medical d...   Request   \n",
       "\n",
       "              queue priority language      tag_1      tag_2       tag_3  \\\n",
       "0   General Inquiry      low       de      Crash  Technical         Bug   \n",
       "1  Customer Service   medium       en   Feedback      Sales          IT   \n",
       "2  Customer Service   medium       en  Technical    Product    Guidance   \n",
       "3  Customer Service     high       de   Security     Breach       Login   \n",
       "4  Customer Service   medium       en   Security   Customer  Compliance   \n",
       "\n",
       "           tag_4          tag_5       tag_6          tag_7 tag_8  \n",
       "0       Hardware     Resolution      Outage  Documentation   NaN  \n",
       "1   Tech Support            NaN         NaN            NaN   NaN  \n",
       "2  Documentation    Performance     Feature            NaN   NaN  \n",
       "3    Maintenance       Incident  Resolution       Feedback   NaN  \n",
       "4         Breach  Documentation    Guidance            NaN   NaN  "
      ]
     },
     "execution_count": 3,
     "metadata": {},
     "output_type": "execute_result"
    }
   ],
   "source": [
    "# Read the CSV file into a DataFrame\n",
    "tickets_df = pd.read_csv('../data/dataset-tickets-multi-lang-4-20k.csv')\n",
    "tickets_df.head()"
   ]
  },
  {
   "cell_type": "markdown",
   "metadata": {},
   "source": [
    "We can appreciate that the dataset contains the next variables:\n",
    "- `subject`: Subject of the customer's email.\n",
    "- `body`: Body of the customer's email.\n",
    "- `answer`: The response provided by the helpdesk agent.\n",
    "- `type`: The type of ticket as picked by the agent (Incident, Request, Problem, Change).\n",
    "- `queue`: Specifies the department to which the email ticket is routed (General Inquiry, Customer Service, Technical Support, IT Support, Product Support, Billing and Payments, Service Outages and Maintenance, Human Resources, Returns and Exchanges, Sales and Pre-Sales). \n",
    "- `priority`: Indicates the urgency and importance of the issue (low, medium, high).\n",
    "- `language`: Indicates the language in which the email is written (de, en).\n",
    "- `tag`: Tags/categories assigned to the ticket to further classify and identify common issues or topics, split into ten columns in the dataset (examples: \"Product Support,\" \"Technical Support,\" \"Sales Inquiry\")."
   ]
  },
  {
   "cell_type": "markdown",
   "metadata": {},
   "source": [
    "##### Check for duplicates"
   ]
  },
  {
   "cell_type": "code",
   "execution_count": 4,
   "metadata": {},
   "outputs": [
    {
     "data": {
      "text/plain": [
       "np.int64(0)"
      ]
     },
     "execution_count": 4,
     "metadata": {},
     "output_type": "execute_result"
    }
   ],
   "source": [
    "# checking for duplicates\n",
    "tickets_df.duplicated().sum() \n",
    "# there are no duplicates"
   ]
  },
  {
   "cell_type": "markdown",
   "metadata": {},
   "source": [
    "##### Check datatypes and missing values"
   ]
  },
  {
   "cell_type": "code",
   "execution_count": 5,
   "metadata": {},
   "outputs": [
    {
     "name": "stdout",
     "output_type": "stream",
     "text": [
      "<class 'pandas.core.frame.DataFrame'>\n",
      "RangeIndex: 20000 entries, 0 to 19999\n",
      "Data columns (total 15 columns):\n",
      " #   Column    Non-Null Count  Dtype \n",
      "---  ------    --------------  ----- \n",
      " 0   subject   18539 non-null  object\n",
      " 1   body      19998 non-null  object\n",
      " 2   answer    19996 non-null  object\n",
      " 3   type      20000 non-null  object\n",
      " 4   queue     20000 non-null  object\n",
      " 5   priority  20000 non-null  object\n",
      " 6   language  20000 non-null  object\n",
      " 7   tag_1     20000 non-null  object\n",
      " 8   tag_2     19954 non-null  object\n",
      " 9   tag_3     19905 non-null  object\n",
      " 10  tag_4     18461 non-null  object\n",
      " 11  tag_5     13091 non-null  object\n",
      " 12  tag_6     7351 non-null   object\n",
      " 13  tag_7     3928 non-null   object\n",
      " 14  tag_8     1907 non-null   object\n",
      "dtypes: object(15)\n",
      "memory usage: 2.3+ MB\n"
     ]
    }
   ],
   "source": [
    "tickets_df.info()"
   ]
  },
  {
   "cell_type": "code",
   "execution_count": 7,
   "metadata": {},
   "outputs": [
    {
     "data": {
      "text/html": [
       "<div>\n",
       "<style scoped>\n",
       "    .dataframe tbody tr th:only-of-type {\n",
       "        vertical-align: middle;\n",
       "    }\n",
       "\n",
       "    .dataframe tbody tr th {\n",
       "        vertical-align: top;\n",
       "    }\n",
       "\n",
       "    .dataframe thead th {\n",
       "        text-align: right;\n",
       "    }\n",
       "</style>\n",
       "<table border=\"1\" class=\"dataframe\">\n",
       "  <thead>\n",
       "    <tr style=\"text-align: right;\">\n",
       "      <th></th>\n",
       "      <th>subject</th>\n",
       "      <th>body</th>\n",
       "      <th>answer</th>\n",
       "      <th>type</th>\n",
       "      <th>queue</th>\n",
       "      <th>priority</th>\n",
       "      <th>language</th>\n",
       "      <th>tag_1</th>\n",
       "      <th>tag_2</th>\n",
       "      <th>tag_3</th>\n",
       "      <th>tag_4</th>\n",
       "      <th>tag_5</th>\n",
       "      <th>tag_6</th>\n",
       "      <th>tag_7</th>\n",
       "      <th>tag_8</th>\n",
       "    </tr>\n",
       "  </thead>\n",
       "  <tbody>\n",
       "    <tr>\n",
       "      <th>17687</th>\n",
       "      <td>Moodle integration broke unexpectedly due to a...</td>\n",
       "      <td>NaN</td>\n",
       "      <td>Could you please offer more specific details?</td>\n",
       "      <td>Problem</td>\n",
       "      <td>Product Support</td>\n",
       "      <td>medium</td>\n",
       "      <td>en</td>\n",
       "      <td>Technical</td>\n",
       "      <td>Bug</td>\n",
       "      <td>Integration</td>\n",
       "      <td>Crash</td>\n",
       "      <td>Documentation</td>\n",
       "      <td>Maintenance</td>\n",
       "      <td>NaN</td>\n",
       "      <td>NaN</td>\n",
       "    </tr>\n",
       "    <tr>\n",
       "      <th>17959</th>\n",
       "      <td>Mehrmale Integrationsvorgänge gingen über Nach...</td>\n",
       "      <td>NaN</td>\n",
       "      <td>Ich werde mich gerne um den Fehler kümmern und...</td>\n",
       "      <td>Incident</td>\n",
       "      <td>Product Support</td>\n",
       "      <td>medium</td>\n",
       "      <td>de</td>\n",
       "      <td>Technical</td>\n",
       "      <td>Bug</td>\n",
       "      <td>API</td>\n",
       "      <td>Authentication</td>\n",
       "      <td>Outage</td>\n",
       "      <td>Resolution</td>\n",
       "      <td>Support</td>\n",
       "      <td>Crash</td>\n",
       "    </tr>\n",
       "  </tbody>\n",
       "</table>\n",
       "</div>"
      ],
      "text/plain": [
       "                                                 subject body  \\\n",
       "17687  Moodle integration broke unexpectedly due to a...  NaN   \n",
       "17959  Mehrmale Integrationsvorgänge gingen über Nach...  NaN   \n",
       "\n",
       "                                                  answer      type  \\\n",
       "17687      Could you please offer more specific details?   Problem   \n",
       "17959  Ich werde mich gerne um den Fehler kümmern und...  Incident   \n",
       "\n",
       "                 queue priority language      tag_1 tag_2        tag_3  \\\n",
       "17687  Product Support   medium       en  Technical   Bug  Integration   \n",
       "17959  Product Support   medium       de  Technical   Bug          API   \n",
       "\n",
       "                tag_4          tag_5        tag_6    tag_7  tag_8  \n",
       "17687           Crash  Documentation  Maintenance      NaN    NaN  \n",
       "17959  Authentication         Outage   Resolution  Support  Crash  "
      ]
     },
     "execution_count": 7,
     "metadata": {},
     "output_type": "execute_result"
    }
   ],
   "source": [
    "tickets_df[tickets_df['body'].isnull()]"
   ]
  },
  {
   "cell_type": "markdown",
   "metadata": {},
   "source": [
    "##### Analyze class imbalance"
   ]
  },
  {
   "cell_type": "code",
   "execution_count": null,
   "metadata": {},
   "outputs": [],
   "source": []
  }
 ],
 "metadata": {
  "kernelspec": {
   "display_name": "ADNE_textclf",
   "language": "python",
   "name": "python3"
  },
  "language_info": {
   "codemirror_mode": {
    "name": "ipython",
    "version": 3
   },
   "file_extension": ".py",
   "mimetype": "text/x-python",
   "name": "python",
   "nbconvert_exporter": "python",
   "pygments_lexer": "ipython3",
   "version": "3.13.2"
  }
 },
 "nbformat": 4,
 "nbformat_minor": 2
}
