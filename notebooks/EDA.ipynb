{
 "cells": [
  {
   "cell_type": "markdown",
   "metadata": {},
   "source": [
    "## **Exploratory Data Analysis**"
   ]
  },
  {
   "cell_type": "markdown",
   "metadata": {},
   "source": [
    "Before introducing any model, we conducted an exploratory data analysis to clean and better understand our dataset.\n",
    " \n",
    "The dataset used in this project was obtained from Kaggle and is available at the following link:     \n",
    "[Multilingual Customer Support Tickets](https://www.kaggle.com/datasets/tobiasbueck/multilingual-customer-support-tickets?select=dataset-tickets-multi-lang3-4k.csv)   \n",
    " \n",
    "It contains a collection of real-world customer support tickets written in english or german, along with metadata such as ticket subject, body, language, assigned queue, priority, and various tags.    \n",
    " \n",
    "We chose this dataset because it offers rich information (dataset size: 20k records) that allows us to classify the appropriate queue for each support ticket based on the given details. By analyzing the info given, we aim to predict which team or department (queue) should handle the ticket.     \n",
    " \n",
    "This classification task can help to automatize the assignment process in customer support systems, ensuring that each ticket is directed to the right team for a timely and effective response."
   ]
  },
  {
   "cell_type": "markdown",
   "metadata": {},
   "source": [
    "### Import Libraries"
   ]
  },
  {
   "cell_type": "code",
   "execution_count": 45,
   "metadata": {},
   "outputs": [],
   "source": [
    "import sys\n",
    "sys.path.append('..')"
   ]
  },
  {
   "cell_type": "code",
   "execution_count": 46,
   "metadata": {},
   "outputs": [],
   "source": [
    "import pandas as pd\n",
    "import seaborn as sns\n",
    "import matplotlib.pyplot as plt\n",
    "from src.data_exploration_utils import *\n"
   ]
  },
  {
   "cell_type": "markdown",
   "metadata": {},
   "source": [
    "### Dataset"
   ]
  },
  {
   "cell_type": "code",
   "execution_count": 18,
   "metadata": {},
   "outputs": [
    {
     "data": {
      "application/vnd.microsoft.datawrangler.viewer.v0+json": {
       "columns": [
        {
         "name": "index",
         "rawType": "int64",
         "type": "integer"
        },
        {
         "name": "subject",
         "rawType": "object",
         "type": "string"
        },
        {
         "name": "body",
         "rawType": "object",
         "type": "string"
        },
        {
         "name": "answer",
         "rawType": "object",
         "type": "string"
        },
        {
         "name": "type",
         "rawType": "object",
         "type": "string"
        },
        {
         "name": "queue",
         "rawType": "object",
         "type": "string"
        },
        {
         "name": "priority",
         "rawType": "object",
         "type": "string"
        },
        {
         "name": "language",
         "rawType": "object",
         "type": "string"
        },
        {
         "name": "tag_1",
         "rawType": "object",
         "type": "string"
        },
        {
         "name": "tag_2",
         "rawType": "object",
         "type": "string"
        },
        {
         "name": "tag_3",
         "rawType": "object",
         "type": "string"
        },
        {
         "name": "tag_4",
         "rawType": "object",
         "type": "string"
        },
        {
         "name": "tag_5",
         "rawType": "object",
         "type": "unknown"
        },
        {
         "name": "tag_6",
         "rawType": "object",
         "type": "unknown"
        },
        {
         "name": "tag_7",
         "rawType": "object",
         "type": "unknown"
        },
        {
         "name": "tag_8",
         "rawType": "object",
         "type": "unknown"
        }
       ],
       "conversionMethod": "pd.DataFrame",
       "ref": "c62c369e-69fc-4322-83b0-e17a4a8b7653",
       "rows": [
        [
         "0",
         "Unvorhergesehener Absturz der Datenanalyse-Plattform",
         "Die Datenanalyse-Plattform brach unerwartet ab, da die Speicheroberfläche zu gering war. Ich habe versucht, Laravel 8 und meinen MacBook Pro neu zu starten, aber das Problem behält sich bei. Ich benötige Ihre Unterstützung, um diesen Fehler zu beheben.",
         "Ich werde Ihnen bei der Lösung des Problems helfen, indem die Datenanalyse-Plattform neu gestartet wird. Bitte bereiten Sie spezifische Informationen zu Ihren Speichereinstellungen vor, damit wir die Ursache besser ermitteln können.",
         "Incident",
         "General Inquiry",
         "low",
         "de",
         "Crash",
         "Technical",
         "Bug",
         "Hardware",
         "Resolution",
         "Outage",
         "Documentation",
         null
        ],
        [
         "1",
         "Customer Support Inquiry",
         "Seeking information on digital strategies that can aid in brand growth and details on the available services. Looking forward to learning more to help our business grow. Thank you, and I look forward to hearing from you soon.",
         "We offer a variety of digital strategies and services to boost brand growth, including social media management and marketing. Let's discuss further; you can reach me at <tel_num> to schedule a call.",
         "Request",
         "Customer Service",
         "medium",
         "en",
         "Feedback",
         "Sales",
         "IT",
         "Tech Support",
         null,
         null,
         null,
         null
        ],
        [
         "2",
         "Data Analytics for Investment",
         "I am contacting you to request information on data analytics tools that can be utilized with the Eclipse IDE for enhancing investment optimization. I am seeking suggestions for tools that can aid in making data-driven decisions. Particularly, I am interested in tools that can manage large datasets and offer advanced analytics features. These tools should be compatible with the Eclipse IDE and can smoothly integrate into my workflow. Key features I am interested in include data visualization, predictive modeling, and machine learning capabilities. I would greatly appreciate any recommendations or advice on how to begin with data analytics for investment optimization using the Eclipse IDE.",
         "I am here to assist you with data analytics tools for investment optimization. Please provide more details on your requirements, and I will suggest appropriate options that are compatible with the Eclipse IDE.",
         "Request",
         "Customer Service",
         "medium",
         "en",
         "Technical",
         "Product",
         "Guidance",
         "Documentation",
         "Performance",
         "Feature",
         null,
         null
        ],
        [
         "3",
         "Krankenhaus-Dienstleistung-Problem",
         "Ein Medien-Daten-Sperrverhalten trat aufgrund unerlaubten Zugriffes auf. Eine schwache Passwortauswahl ist wahrscheinlich die Ursache. Nach dem Versuch, das Passwort zu ändern, behält das Problem leider anhaltend Bestand.",
         "Zurück zur E-Mail-Beschwerde über den Sperrversuch auf Grund unerlaubten Zugriffes bei den Medien-Daten. Leider bleibt das Problem trotz des Passwort-Umbaus bestehen. Um die Angelegenheit weiter zu erkunden, erbeten Sie mir zusätzliche Informationen zur Sperrung, wie zum Beispiel den genauen Zeitpunkt, wann sie eintrat, und alle Fehlermeldungen, die Sie erhalten haben. Darüber hinaus würde ich einen Telefonanspruch mit Ihnen vereinbaren, um die Probleme zu besprechen und die notwendigen Maßnahmen zu ergreifen, um die Sicherheit Ihrer medizinischen Daten zu sichern. Wenn Sie Zeit für einen Telefonanspruch haben, lassen Sie mich bitte wissen, wann es Ihnen gelegen kommt.",
         "Incident",
         "Customer Service",
         "high",
         "de",
         "Security",
         "Breach",
         "Login",
         "Maintenance",
         "Incident",
         "Resolution",
         "Feedback",
         null
        ],
        [
         "4",
         "Security",
         "Dear Customer Support, I am reaching out to inquire about the security protocols you have in place to protect medical data. As a valued customer, I want to ensure that my sensitive health information is handled with the utmost care and confidentiality. Could you please provide me with information on the measures you take to safeguard medical data? Additionally, I would appreciate it if you could inform me about any certifications or compliances your company adheres to, such as HIPAA. I am also keen to know if you have any specific measures to prevent data breaches and unauthorized access. Thank you for your time and assistance. I look forward to your prompt response.",
         "Dear [name], we take the security of medical data very seriously and have implemented strong security measures to protect sensitive information. Our company complies with HIPAA and has obtained the necessary certifications to ensure the confidentiality and integrity of medical data. To prevent data breaches and unauthorized access, we have protocols in place, including encryption and secure storage. If you require more detailed information, I would be happy to discuss this further with you, perhaps over a phone call at your convenience. Please let me know a suitable time to reach you at [tel_num] regarding your [acc_num].",
         "Request",
         "Customer Service",
         "medium",
         "en",
         "Security",
         "Customer",
         "Compliance",
         "Breach",
         "Documentation",
         "Guidance",
         null,
         null
        ]
       ],
       "shape": {
        "columns": 15,
        "rows": 5
       }
      },
      "text/html": [
       "<div>\n",
       "<style scoped>\n",
       "    .dataframe tbody tr th:only-of-type {\n",
       "        vertical-align: middle;\n",
       "    }\n",
       "\n",
       "    .dataframe tbody tr th {\n",
       "        vertical-align: top;\n",
       "    }\n",
       "\n",
       "    .dataframe thead th {\n",
       "        text-align: right;\n",
       "    }\n",
       "</style>\n",
       "<table border=\"1\" class=\"dataframe\">\n",
       "  <thead>\n",
       "    <tr style=\"text-align: right;\">\n",
       "      <th></th>\n",
       "      <th>subject</th>\n",
       "      <th>body</th>\n",
       "      <th>answer</th>\n",
       "      <th>type</th>\n",
       "      <th>queue</th>\n",
       "      <th>priority</th>\n",
       "      <th>language</th>\n",
       "      <th>tag_1</th>\n",
       "      <th>tag_2</th>\n",
       "      <th>tag_3</th>\n",
       "      <th>tag_4</th>\n",
       "      <th>tag_5</th>\n",
       "      <th>tag_6</th>\n",
       "      <th>tag_7</th>\n",
       "      <th>tag_8</th>\n",
       "    </tr>\n",
       "  </thead>\n",
       "  <tbody>\n",
       "    <tr>\n",
       "      <th>0</th>\n",
       "      <td>Unvorhergesehener Absturz der Datenanalyse-Pla...</td>\n",
       "      <td>Die Datenanalyse-Plattform brach unerwartet ab...</td>\n",
       "      <td>Ich werde Ihnen bei der Lösung des Problems he...</td>\n",
       "      <td>Incident</td>\n",
       "      <td>General Inquiry</td>\n",
       "      <td>low</td>\n",
       "      <td>de</td>\n",
       "      <td>Crash</td>\n",
       "      <td>Technical</td>\n",
       "      <td>Bug</td>\n",
       "      <td>Hardware</td>\n",
       "      <td>Resolution</td>\n",
       "      <td>Outage</td>\n",
       "      <td>Documentation</td>\n",
       "      <td>NaN</td>\n",
       "    </tr>\n",
       "    <tr>\n",
       "      <th>1</th>\n",
       "      <td>Customer Support Inquiry</td>\n",
       "      <td>Seeking information on digital strategies that...</td>\n",
       "      <td>We offer a variety of digital strategies and s...</td>\n",
       "      <td>Request</td>\n",
       "      <td>Customer Service</td>\n",
       "      <td>medium</td>\n",
       "      <td>en</td>\n",
       "      <td>Feedback</td>\n",
       "      <td>Sales</td>\n",
       "      <td>IT</td>\n",
       "      <td>Tech Support</td>\n",
       "      <td>NaN</td>\n",
       "      <td>NaN</td>\n",
       "      <td>NaN</td>\n",
       "      <td>NaN</td>\n",
       "    </tr>\n",
       "    <tr>\n",
       "      <th>2</th>\n",
       "      <td>Data Analytics for Investment</td>\n",
       "      <td>I am contacting you to request information on ...</td>\n",
       "      <td>I am here to assist you with data analytics to...</td>\n",
       "      <td>Request</td>\n",
       "      <td>Customer Service</td>\n",
       "      <td>medium</td>\n",
       "      <td>en</td>\n",
       "      <td>Technical</td>\n",
       "      <td>Product</td>\n",
       "      <td>Guidance</td>\n",
       "      <td>Documentation</td>\n",
       "      <td>Performance</td>\n",
       "      <td>Feature</td>\n",
       "      <td>NaN</td>\n",
       "      <td>NaN</td>\n",
       "    </tr>\n",
       "    <tr>\n",
       "      <th>3</th>\n",
       "      <td>Krankenhaus-Dienstleistung-Problem</td>\n",
       "      <td>Ein Medien-Daten-Sperrverhalten trat aufgrund ...</td>\n",
       "      <td>Zurück zur E-Mail-Beschwerde über den Sperrver...</td>\n",
       "      <td>Incident</td>\n",
       "      <td>Customer Service</td>\n",
       "      <td>high</td>\n",
       "      <td>de</td>\n",
       "      <td>Security</td>\n",
       "      <td>Breach</td>\n",
       "      <td>Login</td>\n",
       "      <td>Maintenance</td>\n",
       "      <td>Incident</td>\n",
       "      <td>Resolution</td>\n",
       "      <td>Feedback</td>\n",
       "      <td>NaN</td>\n",
       "    </tr>\n",
       "    <tr>\n",
       "      <th>4</th>\n",
       "      <td>Security</td>\n",
       "      <td>Dear Customer Support, I am reaching out to in...</td>\n",
       "      <td>Dear [name], we take the security of medical d...</td>\n",
       "      <td>Request</td>\n",
       "      <td>Customer Service</td>\n",
       "      <td>medium</td>\n",
       "      <td>en</td>\n",
       "      <td>Security</td>\n",
       "      <td>Customer</td>\n",
       "      <td>Compliance</td>\n",
       "      <td>Breach</td>\n",
       "      <td>Documentation</td>\n",
       "      <td>Guidance</td>\n",
       "      <td>NaN</td>\n",
       "      <td>NaN</td>\n",
       "    </tr>\n",
       "  </tbody>\n",
       "</table>\n",
       "</div>"
      ],
      "text/plain": [
       "                                             subject  \\\n",
       "0  Unvorhergesehener Absturz der Datenanalyse-Pla...   \n",
       "1                           Customer Support Inquiry   \n",
       "2                      Data Analytics for Investment   \n",
       "3                 Krankenhaus-Dienstleistung-Problem   \n",
       "4                                           Security   \n",
       "\n",
       "                                                body  \\\n",
       "0  Die Datenanalyse-Plattform brach unerwartet ab...   \n",
       "1  Seeking information on digital strategies that...   \n",
       "2  I am contacting you to request information on ...   \n",
       "3  Ein Medien-Daten-Sperrverhalten trat aufgrund ...   \n",
       "4  Dear Customer Support, I am reaching out to in...   \n",
       "\n",
       "                                              answer      type  \\\n",
       "0  Ich werde Ihnen bei der Lösung des Problems he...  Incident   \n",
       "1  We offer a variety of digital strategies and s...   Request   \n",
       "2  I am here to assist you with data analytics to...   Request   \n",
       "3  Zurück zur E-Mail-Beschwerde über den Sperrver...  Incident   \n",
       "4  Dear [name], we take the security of medical d...   Request   \n",
       "\n",
       "              queue priority language      tag_1      tag_2       tag_3  \\\n",
       "0   General Inquiry      low       de      Crash  Technical         Bug   \n",
       "1  Customer Service   medium       en   Feedback      Sales          IT   \n",
       "2  Customer Service   medium       en  Technical    Product    Guidance   \n",
       "3  Customer Service     high       de   Security     Breach       Login   \n",
       "4  Customer Service   medium       en   Security   Customer  Compliance   \n",
       "\n",
       "           tag_4          tag_5       tag_6          tag_7 tag_8  \n",
       "0       Hardware     Resolution      Outage  Documentation   NaN  \n",
       "1   Tech Support            NaN         NaN            NaN   NaN  \n",
       "2  Documentation    Performance     Feature            NaN   NaN  \n",
       "3    Maintenance       Incident  Resolution       Feedback   NaN  \n",
       "4         Breach  Documentation    Guidance            NaN   NaN  "
      ]
     },
     "execution_count": 18,
     "metadata": {},
     "output_type": "execute_result"
    }
   ],
   "source": [
    "# Read the CSV file into a DataFrame\n",
    "df_tickets_initial = pd.read_csv('../data/dataset-tickets-multi-lang-4-20k.csv')\n",
    "df_tickets_initial.head()"
   ]
  },
  {
   "cell_type": "code",
   "execution_count": 55,
   "metadata": {},
   "outputs": [
    {
     "data": {
      "text/plain": [
       "(20000, 15)"
      ]
     },
     "execution_count": 55,
     "metadata": {},
     "output_type": "execute_result"
    }
   ],
   "source": [
    "df_tickets_initial.shape"
   ]
  },
  {
   "cell_type": "markdown",
   "metadata": {},
   "source": [
    "We can appreciate that the dataset contains the next variables:\n",
    "- `subject`: Subject of the customer's email.\n",
    "- `body`: Body of the customer's email.\n",
    "- `answer`: The response provided by the helpdesk agent.\n",
    "- `type`: The type of ticket as picked by the agent (Incident, Request, Problem, Change).\n",
    "- `queue`: Specifies the department to which the email ticket is routed (General Inquiry, Customer Service, Technical Support, IT Support, Product Support, Billing and Payments, Service Outages and Maintenance, Human Resources, Returns and Exchanges, Sales and Pre-Sales). \n",
    "- `priority`: Indicates the urgency and importance of the issue (low, medium, high).\n",
    "- `language`: Indicates the language in which the email is written (de, en).\n",
    "- `tag`: Tags/categories assigned to the ticket to further classify and identify common issues or topics, split into ten columns in the dataset (examples: \"Product Support,\" \"Technical Support,\" \"Sales Inquiry\")."
   ]
  },
  {
   "cell_type": "markdown",
   "metadata": {},
   "source": [
    "##### Selection of variables"
   ]
  },
  {
   "cell_type": "markdown",
   "metadata": {},
   "source": [
    "To predict the appropriate support ticket queue, we kept only the most relevant information. We retained the subject and body of the customer message and the language field, which is essential for distinguishing the language during model training.    \n",
    "\n",
    "We excluded the answer field because it is provided after the queue is assigned, as well as the type, priority, and tag_1 to tag_8 fields due to their inconsistency or unreliability at ticket submission.     \n",
    "\n",
    "In summary, we use only the customer's message (subject and body) and language to ensure a simple, fair, and effective model."
   ]
  },
  {
   "cell_type": "code",
   "execution_count": 19,
   "metadata": {},
   "outputs": [
    {
     "data": {
      "application/vnd.microsoft.datawrangler.viewer.v0+json": {
       "columns": [
        {
         "name": "index",
         "rawType": "int64",
         "type": "integer"
        },
        {
         "name": "subject",
         "rawType": "object",
         "type": "string"
        },
        {
         "name": "body",
         "rawType": "object",
         "type": "string"
        },
        {
         "name": "language",
         "rawType": "object",
         "type": "string"
        },
        {
         "name": "queue",
         "rawType": "object",
         "type": "string"
        }
       ],
       "conversionMethod": "pd.DataFrame",
       "ref": "ffd31942-8751-44e8-842b-1133b98a9244",
       "rows": [
        [
         "0",
         "Unvorhergesehener Absturz der Datenanalyse-Plattform",
         "Die Datenanalyse-Plattform brach unerwartet ab, da die Speicheroberfläche zu gering war. Ich habe versucht, Laravel 8 und meinen MacBook Pro neu zu starten, aber das Problem behält sich bei. Ich benötige Ihre Unterstützung, um diesen Fehler zu beheben.",
         "de",
         "General Inquiry"
        ],
        [
         "1",
         "Customer Support Inquiry",
         "Seeking information on digital strategies that can aid in brand growth and details on the available services. Looking forward to learning more to help our business grow. Thank you, and I look forward to hearing from you soon.",
         "en",
         "Customer Service"
        ],
        [
         "2",
         "Data Analytics for Investment",
         "I am contacting you to request information on data analytics tools that can be utilized with the Eclipse IDE for enhancing investment optimization. I am seeking suggestions for tools that can aid in making data-driven decisions. Particularly, I am interested in tools that can manage large datasets and offer advanced analytics features. These tools should be compatible with the Eclipse IDE and can smoothly integrate into my workflow. Key features I am interested in include data visualization, predictive modeling, and machine learning capabilities. I would greatly appreciate any recommendations or advice on how to begin with data analytics for investment optimization using the Eclipse IDE.",
         "en",
         "Customer Service"
        ],
        [
         "3",
         "Krankenhaus-Dienstleistung-Problem",
         "Ein Medien-Daten-Sperrverhalten trat aufgrund unerlaubten Zugriffes auf. Eine schwache Passwortauswahl ist wahrscheinlich die Ursache. Nach dem Versuch, das Passwort zu ändern, behält das Problem leider anhaltend Bestand.",
         "de",
         "Customer Service"
        ],
        [
         "4",
         "Security",
         "Dear Customer Support, I am reaching out to inquire about the security protocols you have in place to protect medical data. As a valued customer, I want to ensure that my sensitive health information is handled with the utmost care and confidentiality. Could you please provide me with information on the measures you take to safeguard medical data? Additionally, I would appreciate it if you could inform me about any certifications or compliances your company adheres to, such as HIPAA. I am also keen to know if you have any specific measures to prevent data breaches and unauthorized access. Thank you for your time and assistance. I look forward to your prompt response.",
         "en",
         "Customer Service"
        ]
       ],
       "shape": {
        "columns": 4,
        "rows": 5
       }
      },
      "text/html": [
       "<div>\n",
       "<style scoped>\n",
       "    .dataframe tbody tr th:only-of-type {\n",
       "        vertical-align: middle;\n",
       "    }\n",
       "\n",
       "    .dataframe tbody tr th {\n",
       "        vertical-align: top;\n",
       "    }\n",
       "\n",
       "    .dataframe thead th {\n",
       "        text-align: right;\n",
       "    }\n",
       "</style>\n",
       "<table border=\"1\" class=\"dataframe\">\n",
       "  <thead>\n",
       "    <tr style=\"text-align: right;\">\n",
       "      <th></th>\n",
       "      <th>subject</th>\n",
       "      <th>body</th>\n",
       "      <th>language</th>\n",
       "      <th>queue</th>\n",
       "    </tr>\n",
       "  </thead>\n",
       "  <tbody>\n",
       "    <tr>\n",
       "      <th>0</th>\n",
       "      <td>Unvorhergesehener Absturz der Datenanalyse-Pla...</td>\n",
       "      <td>Die Datenanalyse-Plattform brach unerwartet ab...</td>\n",
       "      <td>de</td>\n",
       "      <td>General Inquiry</td>\n",
       "    </tr>\n",
       "    <tr>\n",
       "      <th>1</th>\n",
       "      <td>Customer Support Inquiry</td>\n",
       "      <td>Seeking information on digital strategies that...</td>\n",
       "      <td>en</td>\n",
       "      <td>Customer Service</td>\n",
       "    </tr>\n",
       "    <tr>\n",
       "      <th>2</th>\n",
       "      <td>Data Analytics for Investment</td>\n",
       "      <td>I am contacting you to request information on ...</td>\n",
       "      <td>en</td>\n",
       "      <td>Customer Service</td>\n",
       "    </tr>\n",
       "    <tr>\n",
       "      <th>3</th>\n",
       "      <td>Krankenhaus-Dienstleistung-Problem</td>\n",
       "      <td>Ein Medien-Daten-Sperrverhalten trat aufgrund ...</td>\n",
       "      <td>de</td>\n",
       "      <td>Customer Service</td>\n",
       "    </tr>\n",
       "    <tr>\n",
       "      <th>4</th>\n",
       "      <td>Security</td>\n",
       "      <td>Dear Customer Support, I am reaching out to in...</td>\n",
       "      <td>en</td>\n",
       "      <td>Customer Service</td>\n",
       "    </tr>\n",
       "  </tbody>\n",
       "</table>\n",
       "</div>"
      ],
      "text/plain": [
       "                                             subject  \\\n",
       "0  Unvorhergesehener Absturz der Datenanalyse-Pla...   \n",
       "1                           Customer Support Inquiry   \n",
       "2                      Data Analytics for Investment   \n",
       "3                 Krankenhaus-Dienstleistung-Problem   \n",
       "4                                           Security   \n",
       "\n",
       "                                                body language  \\\n",
       "0  Die Datenanalyse-Plattform brach unerwartet ab...       de   \n",
       "1  Seeking information on digital strategies that...       en   \n",
       "2  I am contacting you to request information on ...       en   \n",
       "3  Ein Medien-Daten-Sperrverhalten trat aufgrund ...       de   \n",
       "4  Dear Customer Support, I am reaching out to in...       en   \n",
       "\n",
       "              queue  \n",
       "0   General Inquiry  \n",
       "1  Customer Service  \n",
       "2  Customer Service  \n",
       "3  Customer Service  \n",
       "4  Customer Service  "
      ]
     },
     "execution_count": 19,
     "metadata": {},
     "output_type": "execute_result"
    }
   ],
   "source": [
    "df_tickets_filtered = df_tickets_initial[['subject', 'body', 'language', 'queue']].copy()\n",
    "df_tickets_filtered.head()"
   ]
  },
  {
   "cell_type": "markdown",
   "metadata": {},
   "source": [
    "##### Check for duplicates"
   ]
  },
  {
   "cell_type": "code",
   "execution_count": 20,
   "metadata": {},
   "outputs": [
    {
     "name": "stdout",
     "output_type": "stream",
     "text": [
      "Number of duplicate records: 0\n"
     ]
    }
   ],
   "source": [
    "duplicate_count = df_tickets_filtered.duplicated().sum()\n",
    "print(f\"Number of duplicate records: {duplicate_count}\")"
   ]
  },
  {
   "cell_type": "markdown",
   "metadata": {},
   "source": [
    "##### Check datatypes and missing values"
   ]
  },
  {
   "cell_type": "code",
   "execution_count": 21,
   "metadata": {},
   "outputs": [
    {
     "name": "stdout",
     "output_type": "stream",
     "text": [
      "<class 'pandas.core.frame.DataFrame'>\n",
      "RangeIndex: 20000 entries, 0 to 19999\n",
      "Data columns (total 4 columns):\n",
      " #   Column    Non-Null Count  Dtype \n",
      "---  ------    --------------  ----- \n",
      " 0   subject   18539 non-null  object\n",
      " 1   body      19998 non-null  object\n",
      " 2   language  20000 non-null  object\n",
      " 3   queue     20000 non-null  object\n",
      "dtypes: object(4)\n",
      "memory usage: 625.1+ KB\n"
     ]
    }
   ],
   "source": [
    "df_tickets_filtered.info()"
   ]
  },
  {
   "cell_type": "markdown",
   "metadata": {},
   "source": [
    "We observed 18,539 missing values for subject and 19,998 for body.      \n",
    "\n",
    "Since having data in either field is useful, we will concatenate subject and body into a single variable called text, and only remove records where both fields are missing."
   ]
  },
  {
   "cell_type": "code",
   "execution_count": null,
   "metadata": {},
   "outputs": [
    {
     "name": "stdout",
     "output_type": "stream",
     "text": [
      "Number of records with NaN in both 'body' and 'subject': 0\n"
     ]
    }
   ],
   "source": [
    "nan_in_both = df_tickets_filtered[ df_tickets_filtered['body'].isna() & df_tickets_filtered['subject'].isna() ].shape[0]\n",
    "print(f\"Number of records with NaN in both 'body' and 'subject': {nan_in_both}\")"
   ]
  },
  {
   "cell_type": "code",
   "execution_count": 22,
   "metadata": {},
   "outputs": [
    {
     "data": {
      "application/vnd.microsoft.datawrangler.viewer.v0+json": {
       "columns": [
        {
         "name": "index",
         "rawType": "int64",
         "type": "integer"
        },
        {
         "name": "language",
         "rawType": "object",
         "type": "string"
        },
        {
         "name": "queue",
         "rawType": "object",
         "type": "string"
        },
        {
         "name": "text",
         "rawType": "object",
         "type": "string"
        }
       ],
       "conversionMethod": "pd.DataFrame",
       "ref": "0df2e8fc-3d9d-41af-b837-25f1c166efa6",
       "rows": [
        [
         "0",
         "de",
         "General Inquiry",
         "Unvorhergesehener Absturz der Datenanalyse-Plattform Die Datenanalyse-Plattform brach unerwartet ab, da die Speicheroberfläche zu gering war. Ich habe versucht, Laravel 8 und meinen MacBook Pro neu zu starten, aber das Problem behält sich bei. Ich benötige Ihre Unterstützung, um diesen Fehler zu beheben."
        ],
        [
         "1",
         "en",
         "Customer Service",
         "Customer Support Inquiry Seeking information on digital strategies that can aid in brand growth and details on the available services. Looking forward to learning more to help our business grow. Thank you, and I look forward to hearing from you soon."
        ],
        [
         "2",
         "en",
         "Customer Service",
         "Data Analytics for Investment I am contacting you to request information on data analytics tools that can be utilized with the Eclipse IDE for enhancing investment optimization. I am seeking suggestions for tools that can aid in making data-driven decisions. Particularly, I am interested in tools that can manage large datasets and offer advanced analytics features. These tools should be compatible with the Eclipse IDE and can smoothly integrate into my workflow. Key features I am interested in include data visualization, predictive modeling, and machine learning capabilities. I would greatly appreciate any recommendations or advice on how to begin with data analytics for investment optimization using the Eclipse IDE."
        ],
        [
         "3",
         "de",
         "Customer Service",
         "Krankenhaus-Dienstleistung-Problem Ein Medien-Daten-Sperrverhalten trat aufgrund unerlaubten Zugriffes auf. Eine schwache Passwortauswahl ist wahrscheinlich die Ursache. Nach dem Versuch, das Passwort zu ändern, behält das Problem leider anhaltend Bestand."
        ],
        [
         "4",
         "en",
         "Customer Service",
         "Security Dear Customer Support, I am reaching out to inquire about the security protocols you have in place to protect medical data. As a valued customer, I want to ensure that my sensitive health information is handled with the utmost care and confidentiality. Could you please provide me with information on the measures you take to safeguard medical data? Additionally, I would appreciate it if you could inform me about any certifications or compliances your company adheres to, such as HIPAA. I am also keen to know if you have any specific measures to prevent data breaches and unauthorized access. Thank you for your time and assistance. I look forward to your prompt response."
        ]
       ],
       "shape": {
        "columns": 3,
        "rows": 5
       }
      },
      "text/html": [
       "<div>\n",
       "<style scoped>\n",
       "    .dataframe tbody tr th:only-of-type {\n",
       "        vertical-align: middle;\n",
       "    }\n",
       "\n",
       "    .dataframe tbody tr th {\n",
       "        vertical-align: top;\n",
       "    }\n",
       "\n",
       "    .dataframe thead th {\n",
       "        text-align: right;\n",
       "    }\n",
       "</style>\n",
       "<table border=\"1\" class=\"dataframe\">\n",
       "  <thead>\n",
       "    <tr style=\"text-align: right;\">\n",
       "      <th></th>\n",
       "      <th>language</th>\n",
       "      <th>queue</th>\n",
       "      <th>text</th>\n",
       "    </tr>\n",
       "  </thead>\n",
       "  <tbody>\n",
       "    <tr>\n",
       "      <th>0</th>\n",
       "      <td>de</td>\n",
       "      <td>General Inquiry</td>\n",
       "      <td>Unvorhergesehener Absturz der Datenanalyse-Pla...</td>\n",
       "    </tr>\n",
       "    <tr>\n",
       "      <th>1</th>\n",
       "      <td>en</td>\n",
       "      <td>Customer Service</td>\n",
       "      <td>Customer Support Inquiry Seeking information o...</td>\n",
       "    </tr>\n",
       "    <tr>\n",
       "      <th>2</th>\n",
       "      <td>en</td>\n",
       "      <td>Customer Service</td>\n",
       "      <td>Data Analytics for Investment I am contacting ...</td>\n",
       "    </tr>\n",
       "    <tr>\n",
       "      <th>3</th>\n",
       "      <td>de</td>\n",
       "      <td>Customer Service</td>\n",
       "      <td>Krankenhaus-Dienstleistung-Problem Ein Medien-...</td>\n",
       "    </tr>\n",
       "    <tr>\n",
       "      <th>4</th>\n",
       "      <td>en</td>\n",
       "      <td>Customer Service</td>\n",
       "      <td>Security Dear Customer Support, I am reaching ...</td>\n",
       "    </tr>\n",
       "  </tbody>\n",
       "</table>\n",
       "</div>"
      ],
      "text/plain": [
       "  language             queue  \\\n",
       "0       de   General Inquiry   \n",
       "1       en  Customer Service   \n",
       "2       en  Customer Service   \n",
       "3       de  Customer Service   \n",
       "4       en  Customer Service   \n",
       "\n",
       "                                                text  \n",
       "0  Unvorhergesehener Absturz der Datenanalyse-Pla...  \n",
       "1  Customer Support Inquiry Seeking information o...  \n",
       "2  Data Analytics for Investment I am contacting ...  \n",
       "3  Krankenhaus-Dienstleistung-Problem Ein Medien-...  \n",
       "4  Security Dear Customer Support, I am reaching ...  "
      ]
     },
     "execution_count": 22,
     "metadata": {},
     "output_type": "execute_result"
    }
   ],
   "source": [
    "df_tickets = df_tickets_filtered.copy()\n",
    "df_tickets['text'] = df_tickets['subject'].fillna('') + \" \" + df_tickets['body'].fillna('')\n",
    "df_tickets = df_tickets.drop(columns=['subject', 'body'])\n",
    "df_tickets.head()"
   ]
  },
  {
   "cell_type": "code",
   "execution_count": 23,
   "metadata": {},
   "outputs": [
    {
     "name": "stdout",
     "output_type": "stream",
     "text": [
      "<class 'pandas.core.frame.DataFrame'>\n",
      "RangeIndex: 20000 entries, 0 to 19999\n",
      "Data columns (total 3 columns):\n",
      " #   Column    Non-Null Count  Dtype \n",
      "---  ------    --------------  ----- \n",
      " 0   language  20000 non-null  object\n",
      " 1   queue     20000 non-null  object\n",
      " 2   text      20000 non-null  object\n",
      "dtypes: object(3)\n",
      "memory usage: 468.9+ KB\n"
     ]
    }
   ],
   "source": [
    "df_tickets.info()"
   ]
  },
  {
   "cell_type": "markdown",
   "metadata": {},
   "source": [
    "All variables are of type object, which is appropriate since they all contain strings.     \n",
    "Additionally, no missing values are present."
   ]
  },
  {
   "cell_type": "markdown",
   "metadata": {},
   "source": [
    "##### Analyze class imbalance"
   ]
  },
  {
   "cell_type": "code",
   "execution_count": null,
   "metadata": {},
   "outputs": [
    {
     "data": {
      "image/png": "[encoded data removed]",
      "text/plain": [
       "<Figure size 1200x600 with 1 Axes>"
      ]
     },
     "metadata": {},
     "output_type": "display_data"
    }
   ],
   "source": [
    "sns.set(style=\"whitegrid\")\n",
    "\n",
    "plt.figure(figsize=(12, 6))\n",
    "sns.countplot(y=df_tickets['queue'], order=df_tickets['queue'].value_counts().index, palette=\"coolwarm\", hue=df_tickets['queue'])\n",
    "plt.title(\"Distribution of Tickets by Queue\")\n",
    "plt.xlabel(\"Number of Tickets\")\n",
    "plt.ylabel(\"Queue\")\n",
    "plt.show()"
   ]
  },
  {
   "cell_type": "code",
   "execution_count": 50,
   "metadata": {},
   "outputs": [
    {
     "data": {
      "application/vnd.microsoft.datawrangler.viewer.v0+json": {
       "columns": [
        {
         "name": "queue",
         "rawType": "object",
         "type": "string"
        },
        {
         "name": "Counts",
         "rawType": "int64",
         "type": "integer"
        },
        {
         "name": "Percentage",
         "rawType": "float64",
         "type": "float"
        }
       ],
       "conversionMethod": "pd.DataFrame",
       "ref": "e5b28ac9-37bf-4802-b66a-a59e1e62cc49",
       "rows": [
        [
         "Technical Support",
         "5824",
         "29.12"
        ],
        [
         "Product Support",
         "3708",
         "18.54"
        ],
        [
         "Customer Service",
         "3152",
         "15.76"
        ],
        [
         "IT Support",
         "2292",
         "11.46"
        ],
        [
         "Billing and Payments",
         "2086",
         "10.43"
        ],
        [
         "Returns and Exchanges",
         "1001",
         "5.0"
        ],
        [
         "Service Outages and Maintenance",
         "764",
         "3.82"
        ],
        [
         "Sales and Pre-Sales",
         "572",
         "2.86"
        ],
        [
         "Human Resources",
         "338",
         "1.69"
        ],
        [
         "General Inquiry",
         "263",
         "1.32"
        ]
       ],
       "shape": {
        "columns": 2,
        "rows": 10
       }
      },
      "text/html": [
       "<div>\n",
       "<style scoped>\n",
       "    .dataframe tbody tr th:only-of-type {\n",
       "        vertical-align: middle;\n",
       "    }\n",
       "\n",
       "    .dataframe tbody tr th {\n",
       "        vertical-align: top;\n",
       "    }\n",
       "\n",
       "    .dataframe thead th {\n",
       "        text-align: right;\n",
       "    }\n",
       "</style>\n",
       "<table border=\"1\" class=\"dataframe\">\n",
       "  <thead>\n",
       "    <tr style=\"text-align: right;\">\n",
       "      <th></th>\n",
       "      <th>Counts</th>\n",
       "      <th>Percentage</th>\n",
       "    </tr>\n",
       "    <tr>\n",
       "      <th>queue</th>\n",
       "      <th></th>\n",
       "      <th></th>\n",
       "    </tr>\n",
       "  </thead>\n",
       "  <tbody>\n",
       "    <tr>\n",
       "      <th>Technical Support</th>\n",
       "      <td>5824</td>\n",
       "      <td>29.12</td>\n",
       "    </tr>\n",
       "    <tr>\n",
       "      <th>Product Support</th>\n",
       "      <td>3708</td>\n",
       "      <td>18.54</td>\n",
       "    </tr>\n",
       "    <tr>\n",
       "      <th>Customer Service</th>\n",
       "      <td>3152</td>\n",
       "      <td>15.76</td>\n",
       "    </tr>\n",
       "    <tr>\n",
       "      <th>IT Support</th>\n",
       "      <td>2292</td>\n",
       "      <td>11.46</td>\n",
       "    </tr>\n",
       "    <tr>\n",
       "      <th>Billing and Payments</th>\n",
       "      <td>2086</td>\n",
       "      <td>10.43</td>\n",
       "    </tr>\n",
       "    <tr>\n",
       "      <th>Returns and Exchanges</th>\n",
       "      <td>1001</td>\n",
       "      <td>5.00</td>\n",
       "    </tr>\n",
       "    <tr>\n",
       "      <th>Service Outages and Maintenance</th>\n",
       "      <td>764</td>\n",
       "      <td>3.82</td>\n",
       "    </tr>\n",
       "    <tr>\n",
       "      <th>Sales and Pre-Sales</th>\n",
       "      <td>572</td>\n",
       "      <td>2.86</td>\n",
       "    </tr>\n",
       "    <tr>\n",
       "      <th>Human Resources</th>\n",
       "      <td>338</td>\n",
       "      <td>1.69</td>\n",
       "    </tr>\n",
       "    <tr>\n",
       "      <th>General Inquiry</th>\n",
       "      <td>263</td>\n",
       "      <td>1.32</td>\n",
       "    </tr>\n",
       "  </tbody>\n",
       "</table>\n",
       "</div>"
      ],
      "text/plain": [
       "                                 Counts  Percentage\n",
       "queue                                              \n",
       "Technical Support                  5824       29.12\n",
       "Product Support                    3708       18.54\n",
       "Customer Service                   3152       15.76\n",
       "IT Support                         2292       11.46\n",
       "Billing and Payments               2086       10.43\n",
       "Returns and Exchanges              1001        5.00\n",
       "Service Outages and Maintenance     764        3.82\n",
       "Sales and Pre-Sales                 572        2.86\n",
       "Human Resources                     338        1.69\n",
       "General Inquiry                     263        1.32"
      ]
     },
     "execution_count": 50,
     "metadata": {},
     "output_type": "execute_result"
    }
   ],
   "source": [
    "check_class_imbalance(df_tickets, 'queue')"
   ]
  },
  {
   "cell_type": "code",
   "execution_count": 51,
   "metadata": {},
   "outputs": [
    {
     "data": {
      "text/plain": [
       "queue\n",
       "Technical Support                  5824\n",
       "Product Support                    3708\n",
       "Customer Service                   3152\n",
       "IT Support                         2292\n",
       "Billing and Payments               2086\n",
       "Returns and Exchanges              1001\n",
       "Service Outages and Maintenance     764\n",
       "Sales and Pre-Sales                 572\n",
       "Human Resources                     338\n",
       "General Inquiry                     263\n",
       "Name: count, dtype: int64"
      ]
     },
     "execution_count": 51,
     "metadata": {},
     "output_type": "execute_result"
    }
   ],
   "source": [
    "df_tickets['queue'].value_counts()"
   ]
  }
 ],
 "metadata": {
  "kernelspec": {
   "display_name": "ADNE_textclf",
   "language": "python",
   "name": "python3"
  },
  "language_info": {
   "codemirror_mode": {
    "name": "ipython",
    "version": 3
   },
   "file_extension": ".py",
   "mimetype": "text/x-python",
   "name": "python",
   "nbconvert_exporter": "python",
   "pygments_lexer": "ipython3",
   "version": "3.13.2"
  }
 },
 "nbformat": 4,
 "nbformat_minor": 2
}
